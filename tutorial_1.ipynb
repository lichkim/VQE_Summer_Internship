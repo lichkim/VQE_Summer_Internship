{
  "nbformat": 4,
  "nbformat_minor": 0,
  "metadata": {
    "colab": {
      "provenance": [],
      "include_colab_link": true
    },
    "kernelspec": {
      "name": "python3",
      "display_name": "Python 3"
    },
    "language_info": {
      "name": "python"
    }
  },
  "cells": [
    {
      "cell_type": "markdown",
      "metadata": {
        "id": "view-in-github",
        "colab_type": "text"
      },
      "source": [
        "<a href=\"https://colab.research.google.com/github/lichkim/VQE_Summer_Internship/blob/master/tutorial_1.ipynb\" target=\"_parent\"><img src=\"https://colab.research.google.com/assets/colab-badge.svg\" alt=\"Open In Colab\"/></a>"
      ]
    },
    {
      "cell_type": "code",
      "execution_count": null,
      "metadata": {
        "id": "OzZ7a8p-_cpa",
        "colab": {
          "base_uri": "https://localhost:8080/"
        },
        "outputId": "b976f090-2479-4ea0-de30-c97d238a3809"
      },
      "outputs": [
        {
          "output_type": "stream",
          "name": "stdout",
          "text": [
            "Requirement already satisfied: nlopt in /usr/local/lib/python3.10/dist-packages (2.7.1)\n",
            "Requirement already satisfied: numpy>=1.14 in /usr/local/lib/python3.10/dist-packages (from nlopt) (1.22.4)\n"
          ]
        }
      ],
      "source": [
        "# install required packages\n",
        "!pip install -U nlopt\n",
        "import numpy as np\n",
        "import tensorflow as tf\n",
        "import nlopt\n",
        "from itertools import product\n",
        "import logging"
      ]
    },
    {
      "cell_type": "code",
      "source": [
        "class Sigma:\n",
        "\n",
        "    '''\n",
        "    Sigma class generates algebraic primitives required to compute the system of implicit ODEs for Euler angles.\n",
        "    '''\n",
        "\n",
        "    def __init__(self, *args):\n",
        "            self.string = [i for i in args]\n",
        "            self.order = len(args)\n",
        "            self.digit = sum([args[i]*4**(self.order-i-1) for i in range(len(args))])\n",
        "            self.pauli = tf.constant([\n",
        "                 [[-1j/2,0],[0,-1j/2]],[[0, 1j/2],[1j/2, 0]],[[0, -1/2],[1/2, 0]],[[1j/2, 0],[0, -1j/2]]\n",
        "                      ],dtype=tf.complex64,shape=(4,2,2))\n",
        "            self.__struct_const_0 = tf.constant(\n",
        "                [\n",
        "                    np.zeros([4,4]),\n",
        "                    [[0.0, 0.0, 0.0, 0.0],[0.0, 0.0, 0.0, 0.0],[0.0, 0.0, 0.0, -1.0],[0.0, 0.0, 1.0, 0.0]],\n",
        "                    [[0.0, 0.0, 0.0, 0.0],[0.0, 0.0, 0.0, 1.0],[0.0, 0.0, 0.0, 0.0],[0.0, -1.0, 0.0, 0.0]],\n",
        "                    [[0.0, 0.0, 0.0, 0.0],[0.0, 0.0, -1.0, 0.0],[0.0, 1.0, 0.0, 0.0],[0.0, 0.0, 0.0, 0.0]]\n",
        "                    ], dtype=tf.complex64\n",
        "            )\n",
        "            self.__struct_const_1 = tf.constant(\n",
        "                [\n",
        "                    -1j*np.eye(4),\n",
        "                    -1j*np.array([[0.0, 1.0, 0.0, 0.0],[1.0, 0.0, 0.0, 0.0],[0.0, 0.0, 0.0, 0.0],[0.0, 0.0, 0.0, 0.0]]),\n",
        "                    -1j*np.array([[0.0, 0.0, 1.0, 0.0],[0.0, 0.0, 0.0, 0.0],[1.0, 0.0, 0.0, 0.0],[0.0, 0.0, 0.0, 0.0]]),\n",
        "                    -1j*np.array([[0.0, 0.0, 0.0, 1.0],[0.0, 0.0, 0.0, 0.0],[0.0, 0.0, 0.0, 0.0],[1.0, 0.0, 0.0, 0.0]])\n",
        "                    ], dtype=tf.complex64\n",
        "            )\n",
        "            self.__vector = tf.constant([\n",
        "                [1,0,0,0],\n",
        "                [0,1,0,0],\n",
        "                [0,0,1,0],\n",
        "                [0,0,0,1]], dtype=tf.float32\n",
        "            )\n",
        "            self.index_perm = list(range(0,self.order*2,2)) + list(range(1,self.order*2+1,2))\n",
        "            self.fundamental = self.rep_fundamental()\n",
        "            self.adjoint = self.rep_adjoint()\n",
        "            self.fundamental_z = tf.eye(2,dtype=tf.complex64)\n",
        "            for i in range(1,self.order):\n",
        "                self.fundamental_z = tf.tensordot(self.fundamental_z,tf.eye(2,dtype=tf.complex64),axes=0)\n",
        "            self.fundamental_z = tf.transpose(self.fundamental_z,perm=self.index_perm)\n",
        "            self.adjoint_z = tf.eye(4,dtype=tf.float32)\n",
        "            for i in range(1,self.order):\n",
        "                self.adjoint_z = tf.tensordot(self.adjoint_z,tf.eye(4,dtype=tf.float32),axes=0)\n",
        "            self.adjoint_z = tf.transpose(self.adjoint_z,perm=self.index_perm)\n",
        "            self.adjoint_square = tf.tensordot(self.adjoint,self.adjoint,axes=self.order)\n",
        "            self.adj_vec = self.adj_vector()\n",
        "\n",
        "    def rep_fundamental(self):\n",
        "        index = self.string\n",
        "        ret = self.pauli[index[0]]\n",
        "        for i in range(1,len(index)):\n",
        "            ret = 2j*tf.tensordot(ret,self.pauli[index[i]],axes=0)\n",
        "        return tf.transpose(ret,perm=self.index_perm)\n",
        "\n",
        "\n",
        "    def rep_adjoint(self):\n",
        "        return tf.transpose(tf.cast(self.__rep_adjoint(self.string),dtype=tf.float32),perm=self.index_perm)\n",
        "\n",
        "    def __rep_adjoint(self,sigma,center=False,grade=False):\n",
        "        order = len(sigma)\n",
        "        if grade:\n",
        "            ret = self.__struct_const_1[sigma[0]]\n",
        "        else:\n",
        "            ret = self.__struct_const_0[sigma[0]]\n",
        "\n",
        "        if order > 1:\n",
        "            if grade:\n",
        "                ret = 1.j* (\n",
        "                    tf.tensordot(self.__rep_adjoint(sigma[0:order-1],center=True,grade=True),  self.__rep_adjoint([sigma[order-1]],center=True,grade=True),axes=0) +\n",
        "                    tf.tensordot(self.__rep_adjoint(sigma[0:order-1],center=True,grade=False), self.__rep_adjoint([sigma[order-1]],center=True,grade=False),axes=0)\n",
        "                    )\n",
        "            else:\n",
        "                ret = 1.j* (\n",
        "                    tf.tensordot(self.__rep_adjoint(sigma[0:order-1],center=True,grade=True),  self.__rep_adjoint([sigma[order-1]],center=True,grade=False),axes=0) +\n",
        "                    tf.tensordot(self.__rep_adjoint(sigma[0:order-1],center=True,grade=False), self.__rep_adjoint([sigma[order-1]],center=True,grade=True),axes=0)\n",
        "                    )\n",
        "\n",
        "\n",
        "        return ret\n",
        "\n",
        "    def adj_vector(self):\n",
        "        index = self.string\n",
        "        ret = self.__vector[index[0]]\n",
        "        for i in range(1,len(index)):\n",
        "            ret = tf.tensordot(ret,self.__vector[index[i]],axes=0)\n",
        "        return ret\n",
        "    @tf.function\n",
        "    def exp_fundamental(self,x):\n",
        "        s = tf.cast(tf.math.sin(x/2),tf.complex64)\n",
        "        c = tf.cast(tf.math.cos(x/2),tf.complex64)\n",
        "        return tf.tensordot(c, self.fundamental_z,axes=0) + tf.tensordot(2*s,  self.fundamental,axes=0)\n",
        "    @tf.function\n",
        "    def exp_adjoint(self,x):\n",
        "        return self.adjoint_z + tf.tensordot(tf.math.sin(x), self.adjoint,axes=0) + tf.tensordot((1 - tf.math.cos(x)), self.adjoint_square,axes=0)"
      ],
      "metadata": {
        "id": "MIMdsz_u_j04"
      },
      "execution_count": null,
      "outputs": []
    },
    {
      "cell_type": "code",
      "source": [
        "s1 = Sigma(1,2)\n",
        "s1.fundamental"
      ],
      "metadata": {
        "colab": {
          "base_uri": "https://localhost:8080/"
        },
        "id": "jgilQqWLhTF5",
        "outputId": "a089c0f9-4db2-4061-eed3-3fcb5ba0cda4"
      },
      "execution_count": null,
      "outputs": [
        {
          "output_type": "stream",
          "name": "stderr",
          "text": [
            "WARNING:tensorflow:You are casting an input of type complex64 to an incompatible dtype float32.  This will discard the imaginary part and may not be what you intended.\n"
          ]
        },
        {
          "output_type": "execute_result",
          "data": {
            "text/plain": [
              "<tf.Tensor: shape=(2, 2, 2, 2), dtype=complex64, numpy=\n",
              "array([[[[ 0. +0.j,  0. +0.j],\n",
              "         [ 0. +0.j,  0.5+0.j]],\n",
              "\n",
              "        [[ 0. +0.j,  0. +0.j],\n",
              "         [-0.5+0.j,  0. +0.j]]],\n",
              "\n",
              "\n",
              "       [[[ 0. +0.j,  0.5+0.j],\n",
              "         [ 0. +0.j,  0. +0.j]],\n",
              "\n",
              "        [[-0.5+0.j,  0. +0.j],\n",
              "         [ 0. +0.j,  0. +0.j]]]], dtype=complex64)>"
            ]
          },
          "metadata": {},
          "execution_count": 9
        }
      ]
    },
    {
      "cell_type": "code",
      "source": [],
      "metadata": {
        "id": "ZH3r4QjLhYcp"
      },
      "execution_count": null,
      "outputs": []
    },
    {
      "cell_type": "code",
      "source": [
        "class Euler():\n",
        "    '''\n",
        "    Euler class genetates various list of indices of sigma strings of the rank n.\n",
        "    '''\n",
        "    def __init__(self, order):\n",
        "        self.order = order\n",
        "        self.basis = np.array(list(product([0,1,2,3], repeat = order)))\n",
        "        self.toral = np.array(list(product([0,3], repeat = order)))\n",
        "        self.kprime = self.__kprime(order)\n",
        "        self.aprime = self.__aprime(order)\n",
        "        self.k = self.__k(order)\n",
        "        self.a = self.__a(order)\n",
        "        self.kak = np.concatenate((self.k,self.a,self.k),axis=0)\n",
        "        self.generator = self.__generator(order)\n",
        "        self.dim = len(self.kak)\n",
        "\n",
        "    def __kak(self,order):\n",
        "        if order == 1:\n",
        "            return np.array([[3],[1],[3]])\n",
        "        else:\n",
        "            # return self.__a(order-1)\n",
        "            return np.concatenate((self.__k(order),self.__a(order),self.__k(order)),axis=0)\n",
        "\n",
        "    def __kprime(self,order):\n",
        "        if order == 1:\n",
        "            return np.array([],dtype=np.int32)\n",
        "        else:\n",
        "            # print(self.__kak(order-1))\n",
        "            return np.insert(self.__kak(order-1),0,0,axis=1)\n",
        "\n",
        "    def __aprime(self,order):\n",
        "        if order == 1:\n",
        "            return np.array([],dtype=np.int32)\n",
        "        else:\n",
        "            return np.insert(np.array(list(product([0,3], repeat = order-1))),0,3,axis=1)\n",
        "\n",
        "    def __k(self,order):\n",
        "        if order == 1:\n",
        "            return np.array([[3]])\n",
        "        else:\n",
        "            # print(self.kprime)\n",
        "            # return np.concatenate((self.kprime,self.aprime,self.kprime),axis=0)\n",
        "            return np.concatenate((self.__kprime(order),self.__aprime(order),self.__kprime(order)),axis=0)\n",
        "\n",
        "    def __a(self,order):\n",
        "        if order == 1:\n",
        "            return np.array([[1]])\n",
        "        else:\n",
        "            return np.insert(np.array(list(product([0,3], repeat = order-1))),0,1,axis=1)\n",
        "\n",
        "    def __generator(self,order):\n",
        "        if order == 1:\n",
        "            return np.array([[1],[3]])\n",
        "        else:\n",
        "            ret = np.insert(self.__generator(order-1),0,0,axis=1)\n",
        "            return np.concatenate((ret,self.__a(order),self.__aprime(order)),axis=0)"
      ],
      "metadata": {
        "id": "j4w10LAq_2vU"
      },
      "execution_count": null,
      "outputs": []
    },
    {
      "cell_type": "code",
      "source": [
        "def generate_first_kind(eu):\n",
        "  '''\n",
        "  generates a closure relating canonical coordinates of the first kind to an element in SU(2^n) with respect to sigma strings.\n",
        "  The argument is an instance of the Euler class.\n",
        "  '''\n",
        "  eu_fund = tf.constant(np.array([tf.reshape(Sigma(*s).fundamental,[2**eu.order,2**eu.order]) for s in eu.basis]),dtype=tf.complex128);\n",
        "  dim = len(eu.basis)\n",
        "  @tf.function\n",
        "  def first_kind(theta):\n",
        "    '''\n",
        "    returns an element of SU(2^n) from given canonical coordinates of the first kind whose generators are sigma strings.\n",
        "    '''\n",
        "    theta = tf.cast(theta,tf.complex128)\n",
        "    return tf.linalg.expm(tf.tensordot(theta,eu_fund,axes=1))\n",
        "  return first_kind\n",
        "\n",
        "def generate_second_kind(eu):\n",
        "  '''\n",
        "  generates a closure relating canonical coordinates of the second kind to an element in SU(2^n) with respect to sigma strings.\n",
        "  The argument is an instance of the Euler class.\n",
        "  '''\n",
        "  eu_fund = tf.constant(np.array([tf.reshape(Sigma(*s).fundamental,[2**eu.order,2**eu.order]) for s in eu.basis]),dtype=tf.complex128);\n",
        "  dim = len(eu.basis)\n",
        "  identity = tf.eye(2**eu.order,dtype=tf.complex128)\n",
        "  @tf.function\n",
        "  def second_kind(theta):\n",
        "    '''\n",
        "    returns an element of SU(2^n) from given canonical coordinates of the second kind whose generators are sigma strings.\n",
        "    '''\n",
        "    c = tf.cast(tf.cos(theta/2),tf.complex128)\n",
        "    s = tf.cast(2*tf.sin(theta/2),tf.complex128)\n",
        "    ret = c[0] * identity + s[0] * eu_fund[0]\n",
        "    for i in range(1,dim):\n",
        "      ret = tf.matmul(ret,(c[i] * identity + s[i] * eu_fund[i]))\n",
        "    return ret\n",
        "  return second_kind"
      ],
      "metadata": {
        "id": "p2imblDKC33u"
      },
      "execution_count": null,
      "outputs": []
    },
    {
      "cell_type": "code",
      "source": [
        "def diff_sum(mat1,mat2):\n",
        "  '''\n",
        "  sums over the absolute square elementwise difference between two complex matrices.\n",
        "  '''\n",
        "  diff = mat1 - mat2\n",
        "  return tf.cast(tf.reduce_sum(diff*tf.math.conj(diff)),tf.float64)\n",
        "\n",
        "def generate_diff_sum_grad_fk(mat):\n",
        "  '''\n",
        "  generates a function closure computing the diff_sum for a first kind matrix and a complex matrix as well as its gradient.\n",
        "  '''\n",
        "  order = tf.cast(tf.experimental.numpy.log2(tf.cast(mat.shape[0],tf.float32)),tf.int16)\n",
        "  eu = Euler(order)\n",
        "  fk = generate_first_kind(eu)\n",
        "\n",
        "  def diff_sum_grad_fk(theta):\n",
        "    '''\n",
        "    returns the diff_sum of a first kind matrix and a complex matrix with its gradient.\n",
        "    The first element of the return is the gradient and the last element is the value of diff_sum.\n",
        "    '''\n",
        "    with tf.GradientTape() as tape:\n",
        "      tape.watch(theta)\n",
        "      o = diff_sum(mat,fk(theta))\n",
        "\n",
        "    return tape.gradient(o,theta),o\n",
        "\n",
        "  return diff_sum_grad_fk\n",
        "\n",
        "def generate_diff_sum_grad_sk(mat):\n",
        "  '''\n",
        "  generates a function closure computing the diff_sum for a second kind matrix and a complex matrix as well as its gradient.\n",
        "  '''\n",
        "  order = tf.cast(tf.experimental.numpy.log2(tf.cast(mat.shape[0],tf.float32)),tf.int16)\n",
        "  eu = Euler(order)\n",
        "  sk = generate_second_kind(eu)\n",
        "  def diff_sum_grad_sk(theta):\n",
        "    '''\n",
        "    returns the diff_sum of a second kind matrix and a complex matrix with its gradient.\n",
        "    The first element of the return is the gradient and the last element is the value of diff_sum.\n",
        "    '''\n",
        "    with tf.GradientTape() as tape:\n",
        "      tape.watch(theta)\n",
        "      o = diff_sum(mat,sk(theta))\n",
        "\n",
        "    return tape.gradient(o,theta),o\n",
        "\n",
        "  return diff_sum_grad_sk"
      ],
      "metadata": {
        "id": "kBCUODKLjycP"
      },
      "execution_count": null,
      "outputs": []
    },
    {
      "cell_type": "code",
      "source": [
        "# Optimization begins.\n",
        "def generate_obj_fk(mat):\n",
        "  '''\n",
        "  generates an objective function for the optimization problem to find the canonical coordinates of the first kind based on the diff_sum.\n",
        "  '''\n",
        "  order = tf.cast(tf.experimental.numpy.log2(tf.cast(mat.shape[0],tf.float32)),tf.int16)\n",
        "  eu = Euler(order)\n",
        "  fk_grad = generate_diff_sum_grad_fk(mat)\n",
        "  def obj_fk(x,grad):\n",
        "    tf_x = tf.constant(x,dtype=tf.float64)\n",
        "    if grad.size > 0:\n",
        "      obj = fk_grad(tf_x)\n",
        "      for i in range(grad.size):\n",
        "        grad[i] = obj[0].numpy()[i]\n",
        "\n",
        "    return obj[1].numpy()\n",
        "\n",
        "  return obj_fk\n",
        "\n",
        "def generate_obj_sk(mat):\n",
        "  '''\n",
        "  generates an objective function for the optimization problem to find the canonical coordinates of the first kind based on the diff_sum.\n",
        "  '''\n",
        "  order = tf.cast(tf.experimental.numpy.log2(tf.cast(mat.shape[0],tf.float32)),tf.int16)\n",
        "  eu = Euler(order)\n",
        "  sk_grad = generate_diff_sum_grad_sk(mat)\n",
        "  def obj_sk(x,grad):\n",
        "    tf_x = tf.constant(x,dtype=tf.float64)\n",
        "    if grad.size > 0:\n",
        "      obj = sk_grad(tf_x)\n",
        "      for i in range(grad.size):\n",
        "        grad[i] = obj[0].numpy()[i]\n",
        "\n",
        "    return obj[1].numpy()\n",
        "\n",
        "  return obj_sk"
      ],
      "metadata": {
        "id": "U0iQL07Cp4pL"
      },
      "execution_count": null,
      "outputs": []
    },
    {
      "cell_type": "code",
      "source": [
        "# unitary matrices to be coordinated\n",
        "h_gate = tf.cast(tf.constant([[1.,1.],[1.,-1.]])/tf.sqrt(2.),dtype=tf.complex128); # Hadarmard gate\n",
        "s_gate = tf.constant([[1,0],[0,-1.0j]],dtype=tf.complex128); # S gate\n",
        "t_gate = tf.constant(np.array([[1,0],[0,np.exp(1.0j*np.pi/8)]],dtype=np.complex128)); # T gate\n",
        "cnot_gate = tf.constant(np.array([[1,0,0,0],[0,1,0,0],[0,0,0,1],[0,0,1,0]],dtype=np.complex128)); #CNOT gate"
      ],
      "metadata": {
        "id": "lB_hG149ItgQ"
      },
      "execution_count": null,
      "outputs": []
    },
    {
      "cell_type": "code",
      "source": [
        "unitary_target = h_gate\n",
        "dim = tf.reduce_prod(unitary_target.shape).numpy().astype(int).item()"
      ],
      "metadata": {
        "id": "OzPGtZNMtxdU"
      },
      "execution_count": null,
      "outputs": []
    },
    {
      "cell_type": "code",
      "source": [
        "logging.getLogger('tensorflow').setLevel(logging.ERROR) # quiets Tensorflow warnings.\n",
        "obj_fk = generate_obj_fk(unitary_target) # generates an objective function for a target unitary matrix.\n",
        "opt = nlopt.opt(nlopt.LD_LBFGS,dim) # chooses an optimization algorithm.\n",
        "opt.set_min_objective(obj_fk) # sets the objective function for the chosen optimization algorithm.\n",
        "opt.set_xtol_rel(1e-5) # sets the tolerance for the convergence.\n",
        "theta_opt_fk = opt.optimize(np.ones(dim)) # sets the initial varaibles.\n",
        "obj_final = opt.last_optimum_value() # assigns the variables of the last iteration.\n",
        "# prints results of the optimization algorithm\n",
        "print(\"minimum at\",theta_opt_fk)\n",
        "print(\"the objective function converges to\", obj_final)\n",
        "print(\"optimization result: \",opt.last_optimize_result())"
      ],
      "metadata": {
        "colab": {
          "base_uri": "https://localhost:8080/"
        },
        "id": "fX0pg66k1pZl",
        "outputId": "0ebde526-f1e4-4bb6-867e-f43ac6993e38"
      },
      "execution_count": null,
      "outputs": [
        {
          "output_type": "stream",
          "name": "stdout",
          "text": [
            "minimum at [ 3.14159265e+00  2.22144147e+00 -7.51315101e-11  2.22144147e+00]\n",
            "the objective function converges to 5.858023705462033e-16\n",
            "optimization result:  1\n"
          ]
        }
      ]
    },
    {
      "cell_type": "code",
      "source": [
        "logging.getLogger('tensorflow').setLevel(logging.ERROR) # quiets Tensorflow warnings.\n",
        "obj_sk = generate_obj_sk(h_gate) # generates an objective function for a target unitary matrix.\n",
        "opt = nlopt.opt(nlopt.LD_LBFGS,16) # chooses an optimization algorithm.\n",
        "opt.set_min_objective(obj_sk) # sets the objective function for the chosen optimization algorithm.\n",
        "opt.set_xtol_rel(1e-5) # sets the tolerance for the convergence.\n",
        "theta_opt_sk = opt.optimize(np.ones(16)) # sets the initial varaibles.\n",
        "obj_final = opt.last_optimum_value() # assigns the variables of the last iteration.\n",
        "# prints results of the optimization algorithm\n",
        "print(\"minimum at\",theta_opt_sk)\n",
        "print(\"the objective function converges to\", obj_final)\n",
        "print(\"optimization result: \",opt.last_optimize_result())"
      ],
      "metadata": {
        "id": "YlAzaP1WteLV",
        "colab": {
          "base_uri": "https://localhost:8080/"
        },
        "outputId": "5116dd92-7ba7-453f-8977-0051eda593a0"
      },
      "execution_count": null,
      "outputs": [
        {
          "output_type": "stream",
          "name": "stdout",
          "text": [
            "minimum at [3.14159265 1.57079632 1.5707963  1.57079632 1.         1.\n",
            " 1.         1.         1.         1.         1.         1.\n",
            " 1.         1.         1.         1.        ]\n",
            "the objective function converges to 9.110270824146652e-16\n",
            "optimization result:  4\n"
          ]
        }
      ]
    },
    {
      "cell_type": "code",
      "source": [
        "# validation\n",
        "eu1 = Euler(1)\n",
        "eu2 = Euler(2)\n",
        "fk_mat_su2 = generate_first_kind(eu1)\n",
        "fk_mat_su4 = generate_first_kind(eu2)\n",
        "sk_mat_su2 = generate_second_kind(eu1)\n",
        "sk_mat_su4 = generate_second_kind(eu2)"
      ],
      "metadata": {
        "id": "_EeESNhAq8_D"
      },
      "execution_count": null,
      "outputs": []
    },
    {
      "cell_type": "code",
      "source": [
        "fk_mat_su2(theta_opt_fk)"
      ],
      "metadata": {
        "colab": {
          "base_uri": "https://localhost:8080/"
        },
        "id": "bpWwGAajr-FK",
        "outputId": "11a25340-debc-49d4-f5af-6fcc145439d0"
      },
      "execution_count": null,
      "outputs": [
        {
          "output_type": "execute_result",
          "data": {
            "text/plain": [
              "<tf.Tensor: shape=(2, 2), dtype=complex128, numpy=\n",
              "array([[ 0.70710678+2.39601672e-11j,  0.70710678+9.63573665e-12j],\n",
              "       [ 0.70710678+5.74658654e-11j, -0.70710678-4.31413794e-11j]])>"
            ]
          },
          "metadata": {},
          "execution_count": 19
        }
      ]
    },
    {
      "cell_type": "code",
      "source": [],
      "metadata": {
        "id": "XaVs4hknkpAF"
      },
      "execution_count": null,
      "outputs": []
    },
    {
      "cell_type": "code",
      "source": [
        "unitary_target = cnot_gate\n",
        "dim = tf.reduce_prod(unitary_target.shape).numpy().astype(int).item()"
      ],
      "metadata": {
        "id": "prb9N3cAjUGI"
      },
      "execution_count": null,
      "outputs": []
    },
    {
      "cell_type": "code",
      "source": [
        "dim"
      ],
      "metadata": {
        "colab": {
          "base_uri": "https://localhost:8080/"
        },
        "id": "YVCaeeq9j8aG",
        "outputId": "35dcdb8c-ed2f-4220-95c5-0c39dd0ec176"
      },
      "execution_count": null,
      "outputs": [
        {
          "output_type": "execute_result",
          "data": {
            "text/plain": [
              "16"
            ]
          },
          "metadata": {},
          "execution_count": 21
        }
      ]
    },
    {
      "cell_type": "code",
      "source": [
        "logging.getLogger('tensorflow').setLevel(logging.ERROR) # quiets Tensorflow warnings.\n",
        "obj_fk = generate_obj_fk(unitary_target) # generates an objective function for a target unitary matrix.\n",
        "opt = nlopt.opt(nlopt.LD_LBFGS,dim) # chooses an optimization algorithm.\n",
        "opt.set_min_objective(obj_fk) # sets the objective function for the chosen optimization algorithm.\n",
        "opt.set_xtol_rel(1e-5) # sets the tolerance for the convergence.\n",
        "theta_opt_fk = opt.optimize(np.ones(dim)) # sets the initial varaibles.\n",
        "obj_final = opt.last_optimum_value() # assigns the variables of the last iteration.\n",
        "# prints results of the optimization algorithm\n",
        "print(\"minimum at\",theta_opt_fk)\n",
        "print(\"the objective function converges to\", obj_final)\n",
        "print(\"optimization result: \",opt.last_optimize_result())"
      ],
      "metadata": {
        "colab": {
          "base_uri": "https://localhost:8080/"
        },
        "id": "4nV0xZMuj88F",
        "outputId": "e732f26c-9b22-4891-a897-6942aaf2e34c"
      },
      "execution_count": null,
      "outputs": [
        {
          "output_type": "stream",
          "name": "stdout",
          "text": [
            "minimum at [ 1.57079634e+00  1.57079631e+00  7.08445492e-09  7.08445507e-09\n",
            "  7.08445500e-09 -1.69169595e-08 -2.08570818e-09 -2.32231501e-08\n",
            "  7.08445500e-09 -1.69169595e-08 -2.32231501e-08 -2.08570818e-09\n",
            "  1.57079631e+00  1.57079629e+00 -1.69169596e-08 -1.69169598e-08]\n",
            "the objective function converges to 3.436238964984065e-15\n",
            "optimization result:  4\n"
          ]
        }
      ]
    },
    {
      "cell_type": "code",
      "source": [
        "logging.getLogger('tensorflow').setLevel(logging.ERROR) # quiets Tensorflow warnings.\n",
        "obj_sk = generate_obj_sk(h_gate) # generates an objective function for a target unitary matrix.\n",
        "opt = nlopt.opt(nlopt.LD_LBFGS,16) # chooses an optimization algorithm.\n",
        "opt.set_min_objective(obj_sk) # sets the objective function for the chosen optimization algorithm.\n",
        "opt.set_xtol_rel(1e-5) # sets the tolerance for the convergence.\n",
        "theta_opt_sk = opt.optimize(np.ones(16)) # sets the initial varaibles.\n",
        "obj_final = opt.last_optimum_value() # assigns the variables of the last iteration.\n",
        "# prints results of the optimization algorithm\n",
        "print(\"minimum at\",theta_opt_sk)\n",
        "print(\"the objective function converges to\", obj_final)\n",
        "print(\"optimization result: \",opt.last_optimize_result())"
      ],
      "metadata": {
        "colab": {
          "base_uri": "https://localhost:8080/"
        },
        "id": "M9PEqY2xkBj5",
        "outputId": "bd254eb5-794d-4c7c-a558-1c261bac772e"
      },
      "execution_count": null,
      "outputs": [
        {
          "output_type": "stream",
          "name": "stdout",
          "text": [
            "minimum at [3.14159265 1.57079632 1.5707963  1.57079632 1.         1.\n",
            " 1.         1.         1.         1.         1.         1.\n",
            " 1.         1.         1.         1.        ]\n",
            "the objective function converges to 9.110270824146652e-16\n",
            "optimization result:  4\n"
          ]
        }
      ]
    },
    {
      "cell_type": "code",
      "source": [
        "# validation\n",
        "eu1 = Euler(2)\n",
        "eu2 = Euler(4)\n",
        "fk_mat_su2 = generate_first_kind(eu1)\n",
        "fk_mat_su4 = generate_first_kind(eu2)\n",
        "sk_mat_su2 = generate_second_kind(eu1)\n",
        "sk_mat_su4 = generate_second_kind(eu2)"
      ],
      "metadata": {
        "id": "2ldENufAkJLd"
      },
      "execution_count": null,
      "outputs": []
    },
    {
      "cell_type": "code",
      "source": [
        "np.round(fk_mat_su2(theta_opt_fk),6)"
      ],
      "metadata": {
        "colab": {
          "base_uri": "https://localhost:8080/"
        },
        "id": "V_Tjeh4ikV4r",
        "outputId": "d1c7fcc5-a351-4e64-c038-abaefd65d1b5"
      },
      "execution_count": null,
      "outputs": [
        {
          "output_type": "execute_result",
          "data": {
            "text/plain": [
              "array([[ 1.-0.j, -0.+0.j, -0.+0.j, -0.+0.j],\n",
              "       [ 0.+0.j,  1.-0.j,  0.+0.j, -0.+0.j],\n",
              "       [ 0.+0.j,  0.+0.j, -0.-0.j,  1.-0.j],\n",
              "       [ 0.+0.j, -0.+0.j,  1.+0.j,  0.-0.j]])"
            ]
          },
          "metadata": {},
          "execution_count": 30
        }
      ]
    },
    {
      "cell_type": "code",
      "source": [],
      "metadata": {
        "id": "AsOvKHWpkZL6"
      },
      "execution_count": null,
      "outputs": []
    }
  ]
}