{
  "nbformat": 4,
  "nbformat_minor": 0,
  "metadata": {
    "colab": {
      "provenance": [],
      "include_colab_link": true
    },
    "kernelspec": {
      "name": "python3",
      "display_name": "Python 3"
    },
    "language_info": {
      "name": "python"
    }
  },
  "cells": [
    {
      "cell_type": "markdown",
      "metadata": {
        "id": "view-in-github",
        "colab_type": "text"
      },
      "source": [
        "<a href=\"https://colab.research.google.com/github/lichkim/VQE_Summer_Internship/blob/master/tutorial_2_multi_qubits.ipynb\" target=\"_parent\"><img src=\"https://colab.research.google.com/assets/colab-badge.svg\" alt=\"Open In Colab\"/></a>"
      ]
    },
    {
      "cell_type": "code",
      "execution_count": null,
      "metadata": {
        "colab": {
          "base_uri": "https://localhost:8080/"
        },
        "id": "SGYND9QwYQWS",
        "outputId": "4a961f5f-2c7e-4da8-f8dc-b1c8ca4d2aa0"
      },
      "outputs": [
        {
          "output_type": "stream",
          "name": "stdout",
          "text": [
            "Requirement already satisfied: pennylane in /usr/local/lib/python3.10/dist-packages (0.31.0)\n",
            "Requirement already satisfied: numpy<1.24 in /usr/local/lib/python3.10/dist-packages (from pennylane) (1.22.4)\n",
            "Requirement already satisfied: scipy<=1.10 in /usr/local/lib/python3.10/dist-packages (from pennylane) (1.10.0)\n",
            "Requirement already satisfied: networkx in /usr/local/lib/python3.10/dist-packages (from pennylane) (3.1)\n",
            "Requirement already satisfied: rustworkx in /usr/local/lib/python3.10/dist-packages (from pennylane) (0.13.0)\n",
            "Requirement already satisfied: autograd<=1.5 in /usr/local/lib/python3.10/dist-packages (from pennylane) (1.5)\n",
            "Requirement already satisfied: toml in /usr/local/lib/python3.10/dist-packages (from pennylane) (0.10.2)\n",
            "Requirement already satisfied: appdirs in /usr/local/lib/python3.10/dist-packages (from pennylane) (1.4.4)\n",
            "Requirement already satisfied: semantic-version>=2.7 in /usr/local/lib/python3.10/dist-packages (from pennylane) (2.10.0)\n",
            "Requirement already satisfied: autoray>=0.3.1 in /usr/local/lib/python3.10/dist-packages (from pennylane) (0.6.6)\n",
            "Requirement already satisfied: cachetools in /usr/local/lib/python3.10/dist-packages (from pennylane) (5.3.1)\n",
            "Requirement already satisfied: pennylane-lightning>=0.31 in /usr/local/lib/python3.10/dist-packages (from pennylane) (0.31.0)\n",
            "Requirement already satisfied: requests in /usr/local/lib/python3.10/dist-packages (from pennylane) (2.27.1)\n",
            "Requirement already satisfied: future>=0.15.2 in /usr/local/lib/python3.10/dist-packages (from autograd<=1.5->pennylane) (0.18.3)\n",
            "Requirement already satisfied: urllib3<1.27,>=1.21.1 in /usr/local/lib/python3.10/dist-packages (from requests->pennylane) (1.26.16)\n",
            "Requirement already satisfied: certifi>=2017.4.17 in /usr/local/lib/python3.10/dist-packages (from requests->pennylane) (2023.7.22)\n",
            "Requirement already satisfied: charset-normalizer~=2.0.0 in /usr/local/lib/python3.10/dist-packages (from requests->pennylane) (2.0.12)\n",
            "Requirement already satisfied: idna<4,>=2.5 in /usr/local/lib/python3.10/dist-packages (from requests->pennylane) (3.4)\n"
          ]
        }
      ],
      "source": [
        "!pip install -U pennylane\n",
        "import matplotlib.pyplot as plt\n",
        "from pennylane import numpy as np\n",
        "import pennylane as qml\n",
        "import tensorflow as tf\n",
        "from itertools import product"
      ]
    },
    {
      "cell_type": "code",
      "source": [
        "class Sigma:\n",
        "    def __init__(self, *args):\n",
        "            '''\n",
        "            Sigma class generates algebraic primitives required to compute the system of implicit ODEs for Euler angles.\n",
        "            '''\n",
        "            self.string = [i for i in args]\n",
        "            self.order = len(args)\n",
        "            self.digit = sum([args[i]*4**(self.order-i-1) for i in range(len(args))])\n",
        "            self.pauli = tf.constant([\n",
        "                 [[-1j/2,0],[0,-1j/2]],[[0, 1j/2],[1j/2, 0]],[[0, -1/2],[1/2, 0]],[[1j/2, 0],[0, -1j/2]]\n",
        "                      ],dtype=tf.complex64,shape=(4,2,2))\n",
        "            self.__struct_const_0 = tf.constant(\n",
        "                [\n",
        "                    np.zeros([4,4]),\n",
        "                    [[0.0, 0.0, 0.0, 0.0],[0.0, 0.0, 0.0, 0.0],[0.0, 0.0, 0.0, -1.0],[0.0, 0.0, 1.0, 0.0]],\n",
        "                    [[0.0, 0.0, 0.0, 0.0],[0.0, 0.0, 0.0, 1.0],[0.0, 0.0, 0.0, 0.0],[0.0, -1.0, 0.0, 0.0]],\n",
        "                    [[0.0, 0.0, 0.0, 0.0],[0.0, 0.0, -1.0, 0.0],[0.0, 1.0, 0.0, 0.0],[0.0, 0.0, 0.0, 0.0]]\n",
        "                    ], dtype=tf.complex64\n",
        "            )\n",
        "            self.__struct_const_1 = tf.constant(\n",
        "                [\n",
        "                    -1j*np.eye(4),\n",
        "                    -1j*np.array([[0.0, 1.0, 0.0, 0.0],[1.0, 0.0, 0.0, 0.0],[0.0, 0.0, 0.0, 0.0],[0.0, 0.0, 0.0, 0.0]]),\n",
        "                    -1j*np.array([[0.0, 0.0, 1.0, 0.0],[0.0, 0.0, 0.0, 0.0],[1.0, 0.0, 0.0, 0.0],[0.0, 0.0, 0.0, 0.0]]),\n",
        "                    -1j*np.array([[0.0, 0.0, 0.0, 1.0],[0.0, 0.0, 0.0, 0.0],[0.0, 0.0, 0.0, 0.0],[1.0, 0.0, 0.0, 0.0]])\n",
        "                    ], dtype=tf.complex64\n",
        "            )\n",
        "            self.__vector = tf.constant([\n",
        "                [1,0,0,0],\n",
        "                [0,1,0,0],\n",
        "                [0,0,1,0],\n",
        "                [0,0,0,1]], dtype=tf.float32\n",
        "            )\n",
        "            self.index_perm = list(range(0,self.order*2,2)) + list(range(1,self.order*2+1,2))\n",
        "            self.fundamental = self.rep_fundamental()\n",
        "            self.adjoint = self.rep_adjoint()\n",
        "            self.fundamental_z = tf.eye(2,dtype=tf.complex64)\n",
        "            for i in range(1,self.order):\n",
        "                self.fundamental_z = tf.tensordot(self.fundamental_z,tf.eye(2,dtype=tf.complex64),axes=0)\n",
        "            self.fundamental_z = tf.transpose(self.fundamental_z,perm=self.index_perm)\n",
        "            self.adjoint_z = tf.eye(4,dtype=tf.float32)\n",
        "            for i in range(1,self.order):\n",
        "                self.adjoint_z = tf.tensordot(self.adjoint_z,tf.eye(4,dtype=tf.float32),axes=0)\n",
        "            self.adjoint_z = tf.transpose(self.adjoint_z,perm=self.index_perm)\n",
        "            self.adjoint_square = tf.tensordot(self.adjoint,self.adjoint,axes=self.order)\n",
        "            self.adj_vec = self.adj_vector()\n",
        "\n",
        "    def rep_fundamental(self):\n",
        "        index = self.string\n",
        "        ret = self.pauli[index[0]]\n",
        "        for i in range(1,len(index)):\n",
        "            ret = 2j*tf.tensordot(ret,self.pauli[index[i]],axes=0)\n",
        "        return tf.transpose(ret,perm=self.index_perm)\n",
        "\n",
        "\n",
        "    def rep_adjoint(self):\n",
        "        return tf.transpose(tf.cast(self.__rep_adjoint(self.string),dtype=tf.float32),perm=self.index_perm)\n",
        "\n",
        "    def __rep_adjoint(self,sigma,center=False,grade=False):\n",
        "        order = len(sigma)\n",
        "        if grade:\n",
        "            ret = self.__struct_const_1[sigma[0]]\n",
        "        else:\n",
        "            ret = self.__struct_const_0[sigma[0]]\n",
        "\n",
        "        if order > 1:\n",
        "            if grade:\n",
        "                ret = 1.j* (\n",
        "                    tf.tensordot(self.__rep_adjoint(sigma[0:order-1],center=True,grade=True),  self.__rep_adjoint([sigma[order-1]],center=True,grade=True),axes=0) +\n",
        "                    tf.tensordot(self.__rep_adjoint(sigma[0:order-1],center=True,grade=False), self.__rep_adjoint([sigma[order-1]],center=True,grade=False),axes=0)\n",
        "                    )\n",
        "            else:\n",
        "                ret = 1.j* (\n",
        "                    tf.tensordot(self.__rep_adjoint(sigma[0:order-1],center=True,grade=True),  self.__rep_adjoint([sigma[order-1]],center=True,grade=False),axes=0) +\n",
        "                    tf.tensordot(self.__rep_adjoint(sigma[0:order-1],center=True,grade=False), self.__rep_adjoint([sigma[order-1]],center=True,grade=True),axes=0)\n",
        "                    )\n",
        "\n",
        "\n",
        "        return ret\n",
        "\n",
        "    def adj_vector(self):\n",
        "        index = self.string\n",
        "        ret = self.__vector[index[0]]\n",
        "        for i in range(1,len(index)):\n",
        "            ret = tf.tensordot(ret,self.__vector[index[i]],axes=0)\n",
        "        return ret\n",
        "    @tf.function\n",
        "    def exp_fundamental(self,x):\n",
        "        s = tf.cast(tf.math.sin(x/2),tf.complex64)\n",
        "        c = tf.cast(tf.math.cos(x/2),tf.complex64)\n",
        "        return tf.tensordot(c, self.fundamental_z,axes=0) + tf.tensordot(2*s,  self.fundamental,axes=0)\n",
        "    @tf.function\n",
        "    def exp_adjoint(self,x):\n",
        "        return self.adjoint_z + tf.tensordot(tf.math.sin(x), self.adjoint,axes=0) + tf.tensordot((1 - tf.math.cos(x)), self.adjoint_square,axes=0)"
      ],
      "metadata": {
        "id": "qvR94D6sils3"
      },
      "execution_count": null,
      "outputs": []
    },
    {
      "cell_type": "code",
      "source": [
        "class Euler():\n",
        "    def __init__(self, order):\n",
        "        self.order = order\n",
        "        self.basis = np.array(list(product([0,1,2,3], repeat = order)))\n",
        "        self.toral = np.array(list(product([0,3], repeat = order)))\n",
        "        self.kprime = self.__kprime(order)\n",
        "        self.aprime = self.__aprime(order)\n",
        "        self.k = self.__k(order)\n",
        "        self.a = self.__a(order)\n",
        "        self.kak = np.concatenate((self.k,self.a,self.k),axis=0)\n",
        "        self.generator = self.__generator(order)\n",
        "        self.dim = len(self.kak)\n",
        "\n",
        "    def __kak(self,order):\n",
        "        if order == 1:\n",
        "            return np.array([[3],[1],[3]])\n",
        "        else:\n",
        "            # return self.__a(order-1)\n",
        "            return np.concatenate((self.__k(order),self.__a(order),self.__k(order)),axis=0)\n",
        "\n",
        "    def __kprime(self,order):\n",
        "        if order == 1:\n",
        "            return np.array([],dtype=np.int32)\n",
        "        else:\n",
        "            # print(self.__kak(order-1))\n",
        "            return np.insert(self.__kak(order-1),0,0,axis=1)\n",
        "\n",
        "    def __aprime(self,order):\n",
        "        if order == 1:\n",
        "            return np.array([],dtype=np.int32)\n",
        "        else:\n",
        "            return np.insert(np.array(list(product([0,3], repeat = order-1))),0,3,axis=1)\n",
        "\n",
        "    def __k(self,order):\n",
        "        if order == 1:\n",
        "            return np.array([[3]])\n",
        "        else:\n",
        "            # print(self.kprime)\n",
        "            # return np.concatenate((self.kprime,self.aprime,self.kprime),axis=0)\n",
        "            return np.concatenate((self.__kprime(order),self.__aprime(order),self.__kprime(order)),axis=0)\n",
        "\n",
        "    def __a(self,order):\n",
        "        if order == 1:\n",
        "            return np.array([[1]])\n",
        "        else:\n",
        "            return np.insert(np.array(list(product([0,3], repeat = order-1))),0,1,axis=1)\n",
        "\n",
        "    def __generator(self,order):\n",
        "        if order == 1:\n",
        "            return np.array([[1],[3]])\n",
        "        else:\n",
        "            ret = np.insert(self.__generator(order-1),0,0,axis=1)\n",
        "            return np.concatenate((ret,self.__a(order),self.__aprime(order)),axis=0)"
      ],
      "metadata": {
        "id": "ObzmIg8Od0zT"
      },
      "execution_count": null,
      "outputs": []
    },
    {
      "cell_type": "code",
      "source": [
        "dev = qml.device(\"default.qubit\", wires=1)\n",
        "def circuit(params, wires=0):\n",
        "    qml.RX(params[0], wires=wires)\n",
        "    qml.RY(params[1], wires=wires) #ansatz"
      ],
      "metadata": {
        "id": "MxKRdo80Ye2o"
      },
      "execution_count": null,
      "outputs": []
    },
    {
      "cell_type": "code",
      "source": [
        "coeffs = [1, 1]\n",
        "obs = [qml.PauliX(0), qml.PauliZ(0)]\n",
        "\n",
        "H = qml.Hamiltonian(coeffs, obs)  #define Hamiltonian\n",
        "\n",
        "@qml.qnode(dev, interface=\"autograd\") #parameter shift\n",
        "def cost_fn(params):\n",
        "    circuit(params)\n",
        "    return qml.expval(H)"
      ],
      "metadata": {
        "id": "9k-Z75JiYuHB"
      },
      "execution_count": null,
      "outputs": []
    },
    {
      "cell_type": "code",
      "source": [
        "init_params = np.array([3.97507603, 3.00854038], requires_grad=True)"
      ],
      "metadata": {
        "id": "z8QY7BtlYy-V"
      },
      "execution_count": null,
      "outputs": []
    },
    {
      "cell_type": "code",
      "source": [
        "max_iterations = 500\n",
        "conv_tol = 1e-06\n",
        "#step_size = 0.1 #learning rate"
      ],
      "metadata": {
        "id": "crxFYAkaYzj2"
      },
      "execution_count": null,
      "outputs": []
    },
    {
      "cell_type": "code",
      "source": [
        "#opt = qml.GradientDescentOptimizer(stepsize=step_size)\n",
        "opt = qml.GradientDescentOptimizer(stepsize=0.1)\n",
        "\n",
        "params = init_params\n",
        "\n",
        "gd_param_history = [params]\n",
        "gd_cost_history = []\n",
        "\n",
        "for n in range(max_iterations):\n",
        "\n",
        "    # Take step\n",
        "    params, prev_energy = opt.step_and_cost(cost_fn, params)\n",
        "    gd_param_history.append(params)\n",
        "    gd_cost_history.append(prev_energy)\n",
        "\n",
        "    energy = cost_fn(params)\n",
        "\n",
        "    # Calculate difference between new and old energies\n",
        "    conv = np.abs(energy - prev_energy)\n",
        "\n",
        "    if n % 20 == 0:\n",
        "        print(\n",
        "            \"Iteration = {:},  Energy = {:.8f} Ha,  Convergence parameter = {\"\n",
        "            \":.8f} Ha\".format(n, energy, conv)\n",
        "        )\n",
        "\n",
        "    if conv <= conv_tol:\n",
        "        break\n",
        "\n",
        "print()\n",
        "print(\"Final value of the energy = {:.8f} Ha\".format(energy))\n",
        "print(\"Number of iterations = \", n)"
      ],
      "metadata": {
        "colab": {
          "base_uri": "https://localhost:8080/"
        },
        "id": "o0ZEmFIjY23g",
        "outputId": "4dac2c7c-b471-4758-9a19-d6ba1fc4089f"
      },
      "execution_count": null,
      "outputs": [
        {
          "output_type": "stream",
          "name": "stdout",
          "text": [
            "Iteration = 0,  Energy = 0.48118828 Ha,  Convergence parameter = 0.09598332 Ha\n",
            "Iteration = 20,  Energy = -0.46381708 Ha,  Convergence parameter = 0.08210876 Ha\n",
            "Iteration = 40,  Energy = -1.40651648 Ha,  Convergence parameter = 0.00272091 Ha\n",
            "Iteration = 60,  Energy = -1.41419617 Ha,  Convergence parameter = 0.00000620 Ha\n",
            "\n",
            "Final value of the energy = -1.41421077 Ha\n",
            "Number of iterations =  66\n"
          ]
        }
      ]
    },
    {
      "cell_type": "code",
      "source": [
        "#opt = qml.QNGOptimizer(stepsize=step_size, approx=\"block-diag\")\n",
        "opt = qml.QNGOptimizer(stepsize=0.1, approx=\"block-diag\")\n",
        "\n",
        "params = init_params\n",
        "\n",
        "qngd_param_history = [params]\n",
        "qngd_cost_history = []\n",
        "\n",
        "for n in range(max_iterations):\n",
        "\n",
        "    # Take step\n",
        "    params, prev_energy = opt.step_and_cost(cost_fn, params)\n",
        "    qngd_param_history.append(params)\n",
        "    qngd_cost_history.append(prev_energy)\n",
        "\n",
        "    # Compute energy\n",
        "    energy = cost_fn(params)\n",
        "\n",
        "    # Calculate difference between new and old energies\n",
        "    conv = np.abs(energy - prev_energy)\n",
        "\n",
        "    if n % 20 == 0:\n",
        "        print(\n",
        "            \"Iteration = {:},  Energy = {:.8f} Ha,  Convergence parameter = {\"\n",
        "            \":.8f} Ha\".format(n, energy, conv)\n",
        "        )\n",
        "\n",
        "    if conv <= conv_tol:\n",
        "        break\n",
        "\n",
        "print()\n",
        "print(\"Final value of the energy = {:.8f} Ha\".format(energy))\n",
        "print(\"Number of iterations = \", n)"
      ],
      "metadata": {
        "colab": {
          "base_uri": "https://localhost:8080/"
        },
        "id": "rRqoP5pzY6YO",
        "outputId": "f9accdef-8711-4c37-b00b-0226142b6b35"
      },
      "execution_count": null,
      "outputs": [
        {
          "output_type": "stream",
          "name": "stdout",
          "text": [
            "Iteration = 0,  Energy = -0.01070497 Ha,  Convergence parameter = 0.58787657 Ha\n",
            "\n",
            "Final value of the energy = -1.41421347 Ha\n",
            "Number of iterations =  11\n"
          ]
        }
      ]
    },
    {
      "cell_type": "code",
      "source": [
        "@qml.qnode(dev, interface=\"tf\")\n",
        "def tf_cost_fn(params):\n",
        "    circuit(params)\n",
        "    return qml.expval(H)"
      ],
      "metadata": {
        "id": "kGf0-JjaZBIV"
      },
      "execution_count": null,
      "outputs": []
    },
    {
      "cell_type": "code",
      "source": [
        "tf.random.set_seed(42)\n",
        "n_neuron = 8 #hidden layer\n",
        "\n",
        "nn_vars = tf.keras.models.Sequential([\n",
        "    tf.keras.layers.Input((1,)), #input neuron 1\n",
        "    tf.keras.layers.Dense(n_neuron, activation='tanh'),\n",
        "    tf.keras.layers.Dense(2) #output\n",
        "])"
      ],
      "metadata": {
        "id": "seWLaPp3b7WN"
      },
      "execution_count": null,
      "outputs": []
    },
    {
      "cell_type": "code",
      "source": [
        "import logging\n",
        "logging.getLogger('tensorflow').setLevel(logging.ERROR)\n",
        "optim = tf.keras.optimizers.Adam(learning_rate=0.01)\n",
        "\n",
        "nn_param_history = [nn_vars(tf.constant([1.]))]\n",
        "nn_cost_history = []\n",
        "\n",
        "for epoch in range(1,max_iterations+1):\n",
        "    with tf.GradientTape() as tape: #autodiff(backward)\n",
        "\n",
        "        loss = tf_cost_fn(*nn_vars(tf.constant([1.])))\n",
        "    if len(nn_cost_history) > 0:\n",
        "      conv = tf.abs(nn_cost_history[-1] - loss)\n",
        "    else:\n",
        "      conv = loss\n",
        "    nn_cost_history.append(loss)\n",
        "    gradients = tape.gradient(loss, nn_vars.trainable_variables);\n",
        "    optim.apply_gradients(zip(gradients, nn_vars.trainable_variables));\n",
        "    nn_param_history.append(nn_vars(tf.constant([1.])))\n",
        "    # conv = tf.abs(tf_cost_fn(*nn_vars(tf.constant([1.]))) - loss)\n",
        "    if conv <= conv_tol:\n",
        "        break\n",
        "    print(\"epoch: {}, loss: {}, convergence {}\".format(epoch, loss, conv))"
      ],
      "metadata": {
        "colab": {
          "base_uri": "https://localhost:8080/"
        },
        "id": "dpdQ-ZRVcKRE",
        "outputId": "ce9d0e71-6133-4512-ba6d-347458cfcb0f"
      },
      "execution_count": null,
      "outputs": [
        {
          "output_type": "stream",
          "name": "stdout",
          "text": [
            "epoch: 1, loss: 0.4578521435866503, convergence 0.4578521435866503\n",
            "epoch: 2, loss: 0.3346548746800302, convergence 0.12319726890662008\n",
            "epoch: 3, loss: 0.20827418110391516, convergence 0.12638069357611503\n",
            "epoch: 4, loss: 0.08031844187031933, convergence 0.12795573923359582\n",
            "epoch: 5, loss: -0.04752149683475537, convergence 0.1278399387050747\n",
            "epoch: 6, loss: -0.1740494729517924, convergence 0.12652797611703703\n",
            "epoch: 7, loss: -0.2997102206460953, convergence 0.1256607476943029\n",
            "epoch: 8, loss: -0.4245968940686603, convergence 0.12488667342256499\n",
            "epoch: 9, loss: -0.5477969118622855, convergence 0.12320001779362522\n",
            "epoch: 10, loss: -0.66795524116625, convergence 0.12015832930396453\n",
            "epoch: 11, loss: -0.7834685229737466, convergence 0.11551328180749654\n",
            "epoch: 12, loss: -0.8925768400392076, convergence 0.10910831706546098\n",
            "epoch: 13, loss: -0.9934575997151619, convergence 0.10088075967595433\n",
            "epoch: 14, loss: -1.0843602880343406, convergence 0.09090268831917869\n",
            "epoch: 15, loss: -1.1638489667497762, convergence 0.07948867871543563\n",
            "epoch: 16, loss: -1.2312168826098122, convergence 0.06736791586003599\n",
            "epoch: 17, loss: -1.28680784815704, convergence 0.055590965547227755\n",
            "epoch: 18, loss: -1.3315550774526048, convergence 0.04474722929556485\n",
            "epoch: 19, loss: -1.366164844036582, convergence 0.034609766583977075\n",
            "epoch: 20, loss: -1.3910303385771665, convergence 0.02486549454058462\n",
            "epoch: 21, loss: -1.4065553823178658, convergence 0.015525043740699296\n",
            "epoch: 22, loss: -1.4134269476765855, convergence 0.006871565358719689\n",
            "epoch: 23, loss: -1.4127790055828724, convergence 0.0006479420937131053\n",
            "epoch: 24, loss: -1.4062688056709662, convergence 0.006510199911906156\n",
            "epoch: 25, loss: -1.3959999236286424, convergence 0.01026888204232379\n",
            "epoch: 26, loss: -1.3842113940005225, convergence 0.011788529628119937\n",
            "epoch: 27, loss: -1.3728296991040512, convergence 0.01138169489647134\n",
            "epoch: 28, loss: -1.3631822373948657, convergence 0.009647461709185512\n",
            "epoch: 29, loss: -1.3559864537233188, convergence 0.007195783671546829\n",
            "epoch: 30, loss: -1.3514895850432602, convergence 0.004496868680058608\n",
            "epoch: 31, loss: -1.349637881809987, convergence 0.0018517032332732164\n",
            "epoch: 32, loss: -1.35022171011624, convergence 0.0005838283062529204\n",
            "epoch: 33, loss: -1.3529780113724714, convergence 0.002756301256231497\n",
            "epoch: 34, loss: -1.3576174724126404, convergence 0.004639461040168991\n",
            "epoch: 35, loss: -1.3637906556543806, convergence 0.00617318324174021\n",
            "epoch: 36, loss: -1.3710469331185418, convergence 0.007256277464161132\n",
            "epoch: 37, loss: -1.378837371040846, convergence 0.007790437922304161\n",
            "epoch: 38, loss: -1.3865785300095723, convergence 0.007741158968726403\n",
            "epoch: 39, loss: -1.3937411686937153, convergence 0.007162638684143019\n",
            "epoch: 40, loss: -1.3999327879759713, convergence 0.006191619282255978\n",
            "epoch: 41, loss: -1.4049391044874582, convergence 0.0050063165114868635\n",
            "epoch: 42, loss: -1.40872018565913, convergence 0.003781081171671863\n",
            "epoch: 43, loss: -1.4113614328053785, convergence 0.002641247146248471\n",
            "epoch: 44, loss: -1.4130094444645707, convergence 0.00164801165919215\n",
            "epoch: 45, loss: -1.4138212540897892, convergence 0.0008118096252185403\n",
            "epoch: 46, loss: -1.413942363952058, convergence 0.00012110986226887555\n",
            "epoch: 47, loss: -1.4135118268824707, convergence 0.0004305370695874\n",
            "epoch: 48, loss: -1.412675797543535, convergence 0.0008360293389357842\n",
            "epoch: 49, loss: -1.4115966306946444, convergence 0.0010791668488905337\n",
            "epoch: 50, loss: -1.4104466234148898, convergence 0.0011500072797545613\n",
            "epoch: 51, loss: -1.4093898817455384, convergence 0.0010567416693514353\n",
            "epoch: 52, loss: -1.4085568095236418, convergence 0.000833072221896547\n",
            "epoch: 53, loss: -1.4080261317641067, convergence 0.0005306777595350809\n",
            "epoch: 54, loss: -1.407819180379024, convergence 0.0002069513850826432\n",
            "epoch: 55, loss: -1.4079118632889362, convergence 9.268290991215622e-05\n",
            "epoch: 56, loss: -1.40825139999016, convergence 0.0003395367012237749\n",
            "epoch: 57, loss: -1.4087774053606388, convergence 0.0005260053704787548\n",
            "epoch: 58, loss: -1.4094338063091754, convergence 0.000656400948536584\n",
            "epoch: 59, loss: -1.4101722473051361, convergence 0.0007384409959607652\n",
            "epoch: 60, loss: -1.4109494096547448, convergence 0.0007771623496086733\n",
            "epoch: 61, loss: -1.4117208325570574, convergence 0.0007714229023125796\n",
            "epoch: 62, loss: -1.4124406628958717, convergence 0.0007198303388142868\n",
            "epoch: 63, loss: -1.4130638457368567, convergence 0.0006231828409850593\n",
            "epoch: 64, loss: -1.413556774006529, convergence 0.0004929282696721771\n",
            "epoch: 65, loss: -1.4139026385798799, convergence 0.00034586457335095133\n",
            "epoch: 66, loss: -1.4141054036314586, convergence 0.00020276505157879043\n",
            "epoch: 67, loss: -1.4141854572768726, convergence 8.005364541396887e-05\n",
            "epoch: 68, loss: -1.4141723827113242, convergence 1.3074565548443218e-05\n",
            "epoch: 69, loss: -1.4140964889482786, convergence 7.589376304562023e-05\n",
            "epoch: 70, loss: -1.4139828488672368, convergence 0.00011364008104175483\n",
            "epoch: 71, loss: -1.4138516427586374, convergence 0.00013120610859940207\n",
            "epoch: 72, loss: -1.4137193095258787, convergence 0.0001323332327587412\n",
            "epoch: 73, loss: -1.4136015698845927, convergence 0.00011773964128591885\n",
            "epoch: 74, loss: -1.4135125723926025, convergence 8.89974919902059e-05\n",
            "epoch: 75, loss: -1.4134638978499385, convergence 4.8674542663995624e-05\n",
            "epoch: 76, loss: -1.413460156158607, convergence 3.7416913314380906e-06\n",
            "epoch: 77, loss: -1.413499191646479, convergence 3.903548787187461e-05\n",
            "epoch: 78, loss: -1.413571975910179, convergence 7.27842637000542e-05\n",
            "epoch: 79, loss: -1.4136662018054773, convergence 9.422589529828329e-05\n",
            "epoch: 80, loss: -1.4137692130236577, convergence 0.00010301121818034886\n",
            "epoch: 81, loss: -1.41387151331452, convergence 0.00010230029086244485\n",
            "epoch: 82, loss: -1.4139666174297303, convergence 9.510411521018725e-05\n",
            "epoch: 83, loss: -1.4140500792583042, convergence 8.346182857388307e-05\n",
            "epoch: 84, loss: -1.414118508132964, convergence 6.842887465974279e-05\n",
            "epoch: 85, loss: -1.4141692199556966, convergence 5.0711822732640854e-05\n",
            "epoch: 86, loss: -1.4142004060715725, convergence 3.118611587593634e-05\n",
            "epoch: 87, loss: -1.4142129584446685, convergence 1.255237309605306e-05\n",
            "epoch: 88, loss: -1.4142098654931745, convergence 3.0929514940325475e-06\n",
            "epoch: 89, loss: -1.4141956766847157, convergence 1.4188808458825974e-05\n",
            "epoch: 90, loss: -1.4141759742529145, convergence 1.9702431801160714e-05\n",
            "epoch: 91, loss: -1.4141555608773109, convergence 2.0413375603656192e-05\n",
            "epoch: 92, loss: -1.4141374347064373, convergence 1.8126170873600245e-05\n",
            "epoch: 93, loss: -1.414123545689525, convergence 1.3889016912349561e-05\n",
            "epoch: 94, loss: -1.414114645928847, convergence 8.899760677971713e-06\n",
            "epoch: 95, loss: -1.4141110886727166, convergence 3.557256130326536e-06\n",
            "epoch: 96, loss: -1.4141133926385057, convergence 2.303965789041129e-06\n",
            "epoch: 97, loss: -1.414121008229089, convergence 7.61559058326533e-06\n",
            "epoch: 98, loss: -1.4141334078033498, convergence 1.2399574260912871e-05\n",
            "epoch: 99, loss: -1.4141482253024988, convergence 1.4817499149000213e-05\n",
            "epoch: 100, loss: -1.4141640385297984, convergence 1.581322729959922e-05\n",
            "epoch: 101, loss: -1.4141789154274658, convergence 1.4876897667326361e-05\n",
            "epoch: 102, loss: -1.414191298608983, convergence 1.2383181517305886e-05\n",
            "epoch: 103, loss: -1.4142010201204234, convergence 9.721511440297093e-06\n",
            "epoch: 104, loss: -1.4142076008733548, convergence 6.580752931473199e-06\n",
            "epoch: 105, loss: -1.4142116683997537, convergence 4.0675263988099175e-06\n",
            "epoch: 106, loss: -1.414213146954427, convergence 1.478554673361998e-06\n"
          ]
        }
      ]
    },
    {
      "cell_type": "code",
      "source": [
        "plt.style.use(\"seaborn\")\n",
        "plt.plot(gd_cost_history, \"b\", label=\"Gradient descent\")\n",
        "plt.plot(qngd_cost_history, \"g\", label=\"Quantum natural gradient descent\")\n",
        "plt.plot(nn_cost_history, \"r\", label=\"Neural network\")\n",
        "\n",
        "plt.ylabel(\"Cost function value\")\n",
        "plt.xlabel(\"Optimization steps\")\n",
        "plt.legend()\n",
        "plt.show()"
      ],
      "metadata": {
        "colab": {
          "base_uri": "https://localhost:8080/",
          "height": 559
        },
        "id": "cWpZjJdaY9sh",
        "outputId": "1986b8e8-61cd-4203-fac0-e6d1c3a802bc"
      },
      "execution_count": null,
      "outputs": [
        {
          "output_type": "stream",
          "name": "stderr",
          "text": [
            "<ipython-input-14-8046131105cb>:1: MatplotlibDeprecationWarning: The seaborn styles shipped by Matplotlib are deprecated since 3.6, as they no longer correspond to the styles shipped by seaborn. However, they will remain available as 'seaborn-v0_8-<style>'. Alternatively, directly use the seaborn API instead.\n",
            "  plt.style.use(\"seaborn\")\n"
          ]
        },
        {
          "output_type": "display_data",
          "data": {
            "text/plain": [
              "<Figure size 800x550 with 1 Axes>"
            ],
            "image/png": "[encoded data removed]"
          },
          "metadata": {}
        }
      ]
    },
    {
      "cell_type": "code",
      "source": [
        "#multi-variable은 구현이 어려움\n",
        "def pauli_string(sigma): #rotation operator 만들어줌\n",
        "    '''\n",
        "    translates sigma strings in Euler class to Pauli words in Pennylane.\n",
        "    '''\n",
        "    pauli_alphabet = [\"I\",\"X\",\"Y\",\"Z\"]\n",
        "    return \"\".join([pauli_alphabet[sigma[j]] for j in range(len(sigma))])\n",
        "def generate_qc_sk(eu):\n",
        "    '''\n",
        "    generates a universal parametric quantum circuit by using the KAK decomposition.\n",
        "    '''\n",
        "    pauli_ps = [pauli_string(s) for s in eu.basis]\n",
        "    dim = len(pauli_ps)\n",
        "\n",
        "    def qc_sk(theta):\n",
        "        for i in range(eu.dim):\n",
        "            qml.PauliRot(theta[i], pauli_ps[i], wires = list(range(eu.order))) #pauli rotation, pauli state\n",
        "    return qc_sk"
      ],
      "metadata": {
        "id": "V448pi2Hca3s"
      },
      "execution_count": null,
      "outputs": []
    },
    {
      "cell_type": "code",
      "source": [
        "def x_up(qw,adjoint=False):\n",
        "    if adjoint:\n",
        "        qml.adjoint(qml.Hadamard(qw)) #|+> = |0> - H\n",
        "    else:\n",
        "        qml.Hadamard(wires=qw)\n",
        "\n",
        "def x_down(qw,adjoint=False):\n",
        "    if adjoint:\n",
        "        qml.adjoint(qml.Hadamard(qw))\n",
        "        qml.adjoint(qml.PauliX(qw))\n",
        "    else:\n",
        "        qml.PauliX(wires=qw)\n",
        "        qml.Hadamard(wires=qw)\n",
        "\n",
        "def y_up(qw,adjoint=False):\n",
        "    if adjoint:\n",
        "        qml.adjoint(qml.S(wires=qw))\n",
        "        qml.adjoint(qml.Hadamard(wires=qw))\n",
        "    else:\n",
        "        qml.Hadamard(wires=qw)\n",
        "        qml.S(wires=qw)\n",
        "\n",
        "def y_down(qw,adjoint=False):\n",
        "    if adjoint:\n",
        "        qml.adjoint(qml.S(wires=qw))\n",
        "        qml.adjoint(qml.Hadamard(wires=qw))\n",
        "        qml.adjoint(qml.PauliX(wires=qw))\n",
        "    else:\n",
        "        qml.PauliX(wires=qw)\n",
        "        qml.Hadamard(wires=qw)\n",
        "        qml.S(wires=qw)\n",
        "\n",
        "def z_up(qw,adjoint=False):\n",
        "    if adjoint:\n",
        "        qml.adjoint(qml.Identity(wires=qw))\n",
        "    else:\n",
        "        qml.Identity(wires=qw)\n",
        "\n",
        "def z_down(qw,adjoint=False):\n",
        "    if adjoint:\n",
        "        qml.adjoint(qml.PauliX(wires=qw))\n",
        "    else:\n",
        "        qml.PauliX(wires=qw)\n",
        "\n",
        "def initial_state(sigma,adjoint=False):\n",
        "    ###\n",
        "    0-5  # 0 xup 1 xdown 2yup ....\n",
        "    ###\n",
        "    init_state = [x_up,x_down,y_up,y_down,z_up,z_down]\n",
        "    order = len(sigma)\n",
        "    for i in range(0,order):\n",
        "        init_state[sigma[i]](i,adjoint)\n",
        "\n",
        "\n",
        "def sign_theta(eu):\n",
        "    sign_flat =  tf.constant(qml.pauli_decompose((2.j*sum([tf.reshape(Sigma(*[0]*eu.order).fundamental,[2**eu.order,2**eu.order])] + [tf.reshape(Sigma(*s).fundamental,[2**eu.order,2**eu.order]) for s in eu.basis])).numpy()).coeffs)\n",
        "    sign = tf.reshape(sign_flat,[4]*eu.order)\n",
        "    return tf.constant(np.array([sign[tuple(s)] for s in eu.basis]))"
      ],
      "metadata": {
        "id": "-o6kdhg7eaOz"
      },
      "execution_count": null,
      "outputs": []
    },
    {
      "cell_type": "code",
      "source": [
        "eu = Euler(2) # 2qubit : 2, single:1\n",
        "basis_ps = [pauli_string(s) for s in eu.basis]\n",
        "basis_sign = sign_theta(eu)\n",
        "qc_dev = qml.device('default.qubit', wires=eu.order)\n",
        "\n",
        "@qml.qnode(qc_dev, interface='tf')\n",
        "def qc_sk(theta,state,target):\n",
        "  initial_state(state)\n",
        "  for i in range(len(basis_ps)-1,-1,-1):\n",
        "    qml.PauliRot(basis_sign[i]*theta[i], basis_ps[i], wires = list(range(eu.order)))\n",
        "\n",
        "  qml.adjoint(target)\n",
        "  initial_state(state,adjoint=True) # VdaggerU(theta)|psi> = 1 -> 역으로 정의\n",
        "  return qml.probs(list(range(eu.order)))"
      ],
      "metadata": {
        "id": "f72M2ppgeDV3"
      },
      "execution_count": null,
      "outputs": []
    },
    {
      "cell_type": "code",
      "source": [
        "tf.random.set_seed(42)\n",
        "n_neuron = 8\n",
        "\n",
        "nn_theta = tf.keras.models.Sequential([\n",
        "    tf.keras.layers.Input((1,)),\n",
        "    tf.keras.layers.Dense(n_neuron, activation='tanh'),\n",
        "    tf.keras.layers.Dense(16) # 2qubits -> 16, single -> 4\n",
        "])\n"
      ],
      "metadata": {
        "id": "JqjjL5N2faR9"
      },
      "execution_count": null,
      "outputs": []
    },
    {
      "cell_type": "code",
      "source": [
        "qml.draw_mpl(qc_sk)(*nn_theta(tf.constant([1.])),[0,4],qml.CNOT(wires=[0,1])) # input RZ RY RX RI H+ output measure"
      ],
      "metadata": {
        "colab": {
          "base_uri": "https://localhost:8080/",
          "height": 238
        },
        "id": "xIddEgEejWKK",
        "outputId": "d3ffa911-0e0e-4f5c-d257-8fe308596a84"
      },
      "execution_count": null,
      "outputs": [
        {
          "output_type": "execute_result",
          "data": {
            "text/plain": [
              "(<Figure size 2200x300 with 1 Axes>, <Axes: >)"
            ]
          },
          "metadata": {},
          "execution_count": 19
        },
        {
          "output_type": "display_data",
          "data": {
            "text/plain": [
              "<Figure size 2200x300 with 1 Axes>"
            ],
            "image/png": "[encoded data removed]"
          },
          "metadata": {}
        }
      ]
    },
    {
      "cell_type": "code",
      "source": [
        "max_iterations = 300\n",
        "conv_tol = 1e-10\n",
        "# step_size = 0.1\n",
        "\n",
        "optim = tf.keras.optimizers.Adam(learning_rate=0.01)\n",
        "#optim = qml.QNGOptimizer(stepsize=0.1, approx=\"block-diag\")\n",
        "\n",
        "nn_param_history = [nn_theta(tf.constant([1.]))]\n",
        "nn_cost_history = []\n",
        "\n",
        "for epoch in range(1,max_iterations+1):\n",
        "    with tf.GradientTape() as tape:\n",
        "        loss_1 = 1.0 - qc_sk(*nn_theta(tf.constant([1.])),[0,0],qml.CNOT(wires=[0,1]))[0]; # minimal basis 몇개?  6개/9개 (O)\n",
        "        loss_2 = 1.0 - qc_sk(*nn_theta(tf.constant([1.])),[0,4],qml.CNOT(wires=[0,1]))[0];\n",
        "        loss_3 = 1.0 - qc_sk(*nn_theta(tf.constant([1.])),[0,5],qml.CNOT(wires=[0,1]))[0];\n",
        "        loss_4 = 1.0 - qc_sk(*nn_theta(tf.constant([1.])),[4,0],qml.CNOT(wires=[0,1]))[0];\n",
        "        loss_5 = 1.0 - qc_sk(*nn_theta(tf.constant([1.])),[4,4],qml.CNOT(wires=[0,1]))[0];\n",
        "        loss_6 = 1.0 - qc_sk(*nn_theta(tf.constant([1.])),[4,5],qml.CNOT(wires=[0,1]))[0];\n",
        "        loss_7 = 1.0 - qc_sk(*nn_theta(tf.constant([1.])),[5,0],qml.CNOT(wires=[0,1]))[0];\n",
        "        loss_8 = 1.0 - qc_sk(*nn_theta(tf.constant([1.])),[5,4],qml.CNOT(wires=[0,1]))[0];\n",
        "        loss_9 = 1.0 - qc_sk(*nn_theta(tf.constant([1.])),[5,5],qml.CNOT(wires=[0,1]))[0];\n",
        "\n",
        "\n",
        "        loss = loss_1 + loss_2 + loss_3 + loss_4 + loss_5 + loss_6 + loss_7 + loss_8 + loss_9\n",
        "    if len(nn_cost_history) > 0:\n",
        "      conv = tf.abs(nn_cost_history[-1] - loss)\n",
        "    else:\n",
        "      conv = loss\n",
        "    nn_cost_history.append(loss)\n",
        "    gradients = tape.gradient(loss, nn_theta.trainable_variables);\n",
        "    optim.apply_gradients(zip(gradients, nn_theta.trainable_variables));\n",
        "    nn_param_history.append(nn_theta(tf.constant([1.])))\n",
        "    # conv = tf.abs(tf_cost_fn(*nn_theta(tf.constant([1.]))) - loss)\n",
        "    if conv <= conv_tol:\n",
        "        break\n",
        "    print(\"epoch: {}, loss: {}, convergence {}\".format(epoch, loss, conv))"
      ],
      "metadata": {
        "colab": {
          "base_uri": "https://localhost:8080/",
          "height": 245
        },
        "id": "Oe1XDWSxgsbJ",
        "outputId": "4fcfb091-9150-4313-df35-e30deaa5a0f6"
      },
      "execution_count": null,
      "outputs": [
        {
          "output_type": "error",
          "ename": "AttributeError",
          "evalue": "ignored",
          "traceback": [
            "\u001b[0;31m---------------------------------------------------------------------------\u001b[0m",
            "\u001b[0;31mAttributeError\u001b[0m                            Traceback (most recent call last)",
            "\u001b[0;32m<ipython-input-27-f2d0fd71f47d>\u001b[0m in \u001b[0;36m<cell line: 11>\u001b[0;34m()\u001b[0m\n\u001b[1;32m     29\u001b[0m     \u001b[0mnn_cost_history\u001b[0m\u001b[0;34m.\u001b[0m\u001b[0mappend\u001b[0m\u001b[0;34m(\u001b[0m\u001b[0mloss\u001b[0m\u001b[0;34m)\u001b[0m\u001b[0;34m\u001b[0m\u001b[0;34m\u001b[0m\u001b[0m\n\u001b[1;32m     30\u001b[0m     \u001b[0mgradients\u001b[0m \u001b[0;34m=\u001b[0m \u001b[0mtape\u001b[0m\u001b[0;34m.\u001b[0m\u001b[0mgradient\u001b[0m\u001b[0;34m(\u001b[0m\u001b[0mloss\u001b[0m\u001b[0;34m,\u001b[0m \u001b[0mnn_theta\u001b[0m\u001b[0;34m.\u001b[0m\u001b[0mtrainable_variables\u001b[0m\u001b[0;34m)\u001b[0m\u001b[0;34m;\u001b[0m\u001b[0;34m\u001b[0m\u001b[0;34m\u001b[0m\u001b[0m\n\u001b[0;32m---> 31\u001b[0;31m     \u001b[0moptim\u001b[0m\u001b[0;34m.\u001b[0m\u001b[0mapply_gradients\u001b[0m\u001b[0;34m(\u001b[0m\u001b[0mzip\u001b[0m\u001b[0;34m(\u001b[0m\u001b[0mgradients\u001b[0m\u001b[0;34m,\u001b[0m \u001b[0mnn_theta\u001b[0m\u001b[0;34m.\u001b[0m\u001b[0mtrainable_variables\u001b[0m\u001b[0;34m)\u001b[0m\u001b[0;34m)\u001b[0m\u001b[0;34m;\u001b[0m\u001b[0;34m\u001b[0m\u001b[0;34m\u001b[0m\u001b[0m\n\u001b[0m\u001b[1;32m     32\u001b[0m     \u001b[0mnn_param_history\u001b[0m\u001b[0;34m.\u001b[0m\u001b[0mappend\u001b[0m\u001b[0;34m(\u001b[0m\u001b[0mnn_theta\u001b[0m\u001b[0;34m(\u001b[0m\u001b[0mtf\u001b[0m\u001b[0;34m.\u001b[0m\u001b[0mconstant\u001b[0m\u001b[0;34m(\u001b[0m\u001b[0;34m[\u001b[0m\u001b[0;36m1.\u001b[0m\u001b[0;34m]\u001b[0m\u001b[0;34m)\u001b[0m\u001b[0;34m)\u001b[0m\u001b[0;34m)\u001b[0m\u001b[0;34m\u001b[0m\u001b[0;34m\u001b[0m\u001b[0m\n\u001b[1;32m     33\u001b[0m     \u001b[0;31m# conv = tf.abs(tf_cost_fn(*nn_theta(tf.constant([1.]))) - loss)\u001b[0m\u001b[0;34m\u001b[0m\u001b[0;34m\u001b[0m\u001b[0m\n",
            "\u001b[0;31mAttributeError\u001b[0m: 'QNGOptimizer' object has no attribute 'apply_gradients'"
          ]
        }
      ]
    },
    {
      "cell_type": "code",
      "source": [
        "# qc_sk(*nn_theta(tf.constant([1.])),[5],qml.Hadamard(wires=[0]))\n",
        "qc_sk_mat = qml.matrix(qc_sk)(*nn_theta(tf.constant([1.])),[1],qml.S(wires=[0]));qc_sk_mat #qml matrix : 위의 circuit을 matrix form으로 바꿈"
      ],
      "metadata": {
        "colab": {
          "base_uri": "https://localhost:8080/"
        },
        "id": "293KZRPCmTvR",
        "outputId": "7929f509-381f-457e-8245-961d3b58a2f1"
      },
      "execution_count": null,
      "outputs": [
        {
          "output_type": "execute_result",
          "data": {
            "text/plain": [
              "<tf.Tensor: shape=(4, 4), dtype=complex128, numpy=\n",
              "array([[ 0.16456381-0.47217686j, -0.47212369-0.1645558j ,\n",
              "         0.16455983-0.47214118j,  0.47213832+0.16454953j],\n",
              "       [-0.47214725-0.1645093j ,  0.1645919 -0.47215934j,\n",
              "         0.47215089+0.16453563j,  0.16458517-0.47212499j],\n",
              "       [ 0.1645511 -0.47212451j,  0.4721502 +0.16457306j,\n",
              "         0.16458005-0.4721285j , -0.47215809-0.16457855j],\n",
              "       [ 0.47215544+0.16453586j,  0.16460231-0.47211402j,\n",
              "        -0.4721611 -0.16454879j,  0.16459444-0.47213121j]])>"
            ]
          },
          "metadata": {},
          "execution_count": 21
        }
      ]
    },
    {
      "cell_type": "code",
      "source": [
        "def generate_second_kind(eu):\n",
        "  eu_fund = tf.constant(np.array([tf.reshape(Sigma(*s).fundamental,[2**eu.order,2**eu.order]) for s in eu.basis]),dtype=tf.complex128);\n",
        "  dim = len(eu.basis)\n",
        "  identity = tf.eye(2**eu.order,dtype=tf.complex128)\n",
        "  @tf.function\n",
        "  def second_kind(theta):\n",
        "    c = tf.cast(tf.cos(theta/2),tf.complex128)\n",
        "    s = tf.cast(2*tf.sin(theta/2),tf.complex128)\n",
        "    ret = c[0] * identity + s[0] * eu_fund[0]\n",
        "    for i in range(1,dim):\n",
        "      ret = tf.matmul(ret,(c[i] * identity + s[i] * eu_fund[i]))\n",
        "    return ret\n",
        "  return second_kind\n",
        "\n",
        "fn_sk = generate_second_kind(eu)"
      ],
      "metadata": {
        "id": "Nfw1J7uuhqiB"
      },
      "execution_count": null,
      "outputs": []
    },
    {
      "cell_type": "code",
      "source": [
        "tf.matmul(fn_sk(*(nn_theta(tf.constant([1.])))),tf.linalg.adjoint(qc_sk_mat))"
      ],
      "metadata": {
        "colab": {
          "base_uri": "https://localhost:8080/"
        },
        "id": "RDcy6OVpidwT",
        "outputId": "73dc09e5-be0c-4bb9-d8b6-0457ff2988d2"
      },
      "execution_count": null,
      "outputs": [
        {
          "output_type": "execute_result",
          "data": {
            "text/plain": [
              "<tf.Tensor: shape=(4, 4), dtype=complex128, numpy=\n",
              "array([[ 0.48740355+0.11157587j, -0.11158593+0.48736663j,\n",
              "         0.48738076+0.11157305j,  0.11159446-0.48741047j],\n",
              "       [-0.11158239+0.48736744j,  0.48740772+0.11155764j,\n",
              "         0.11159378-0.48741063j,  0.48738598+0.11155026j],\n",
              "       [ 0.11155815-0.4873841j ,  0.4874245 +0.11153345j,\n",
              "        -0.11156558+0.48740597j,  0.48738119+0.11152201j],\n",
              "       [ 0.48742534+0.11152981j,  0.11153987-0.48738828j,\n",
              "         0.48738136+0.11152127j, -0.11154269+0.48741121j]])>"
            ]
          },
          "metadata": {},
          "execution_count": 23
        }
      ]
    },
    {
      "cell_type": "code",
      "source": [
        "fn_sk(*(nn_theta(tf.constant([1.]))))"
      ],
      "metadata": {
        "colab": {
          "base_uri": "https://localhost:8080/"
        },
        "id": "yzAXYgD6tDKy",
        "outputId": "4ea82241-d534-47e3-bec3-1128b173fdc4"
      },
      "execution_count": null,
      "outputs": [
        {
          "output_type": "execute_result",
          "data": {
            "text/plain": [
              "<tf.Tensor: shape=(4, 4), dtype=complex128, numpy=\n",
              "array([[ 5.31515710e-01-8.47048368e-01j,  4.65394363e-06-4.96182015e-06j,\n",
              "         8.63499861e-06+1.82298415e-05j, -1.73892269e-05-2.77232795e-05j],\n",
              "       [-2.44319403e-06+6.34860221e-06j,  5.31569163e-01-8.47014825e-01j,\n",
              "        -4.53847303e-06-2.14118798e-05j, -9.03408121e-06+6.72964006e-06j],\n",
              "       [-3.25273009e-05-3.59828278e-06j,  2.13053178e-06-1.10624045e-05j,\n",
              "         1.57301735e-05+2.05206811e-05j,  5.31516694e-01-8.47047750e-01j],\n",
              "       [ 2.01708504e-05-1.56584572e-07j, -2.12538095e-05+5.22721044e-06j,\n",
              "         5.31459505e-01-8.47083633e-01j,  2.53208357e-05+5.23572059e-06j]])>"
            ]
          },
          "metadata": {},
          "execution_count": 24
        }
      ]
    },
    {
      "cell_type": "code",
      "source": [
        "h_gate = tf.cast(tf.constant([[1.,1.],[1.,-1.]])/tf.sqrt(2.),dtype=tf.complex128);\n",
        "s_gate = tf.constant([[1,0],[0,-1.0j]],dtype=tf.complex128);\n",
        "t_gate = tf.constant(np.array([[1,0],[0,np.exp(1.0j*np.pi/8)]],dtype=np.complex128));\n",
        "cnot_gate = tf.constant(np.array([[1,0,0,0],[0,1,0,0],[0,0,0,1],[0,0,1,0]],dtype=np.complex128));"
      ],
      "metadata": {
        "id": "xI5jQtUfpVcX"
      },
      "execution_count": null,
      "outputs": []
    }
  ]
}