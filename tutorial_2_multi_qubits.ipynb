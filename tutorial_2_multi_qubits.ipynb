{
  "cells": [
    {
      "cell_type": "markdown",
      "metadata": {
        "colab_type": "text",
        "id": "view-in-github"
      },
      "source": [
        "<a href=\"https://colab.research.google.com/github/lichkim/VQE_Summer_Internship/blob/master/tutorial_2_multi_qubits.ipynb\" target=\"_parent\"><img src=\"https://colab.research.google.com/assets/colab-badge.svg\" alt=\"Open In Colab\"/></a>"
      ]
    },
    {
      "cell_type": "code",
      "execution_count": 1,
      "metadata": {
        "colab": {
          "base_uri": "https://localhost:8080/"
        },
        "id": "SGYND9QwYQWS",
        "outputId": "4a961f5f-2c7e-4da8-f8dc-b1c8ca4d2aa0"
      },
      "outputs": [
        {
          "name": "stdout",
          "output_type": "stream",
          "text": [
            "Requirement already satisfied: pennylane in /usr/local/lib/python3.10/dist-packages (0.31.0)\n",
            "Requirement already satisfied: scipy<=1.10 in /usr/local/lib/python3.10/dist-packages (from pennylane) (1.9.0)\n",
            "Requirement already satisfied: requests in /usr/local/lib/python3.10/dist-packages (from pennylane) (2.28.1)\n",
            "Requirement already satisfied: autograd<=1.5 in /usr/local/lib/python3.10/dist-packages (from pennylane) (1.4)\n",
            "Requirement already satisfied: pennylane-lightning>=0.31 in /usr/local/lib/python3.10/dist-packages (from pennylane) (0.31.0)\n",
            "Requirement already satisfied: cachetools in /usr/local/lib/python3.10/dist-packages (from pennylane) (4.2.4)\n",
            "Requirement already satisfied: numpy<1.24 in /usr/local/lib/python3.10/dist-packages (from pennylane) (1.22.4)\n",
            "Requirement already satisfied: toml in /usr/local/lib/python3.10/dist-packages (from pennylane) (0.10.2)\n",
            "Requirement already satisfied: semantic-version>=2.7 in /usr/local/lib/python3.10/dist-packages (from pennylane) (2.10.0)\n",
            "Requirement already satisfied: autoray>=0.3.1 in /usr/local/lib/python3.10/dist-packages (from pennylane) (0.3.2)\n",
            "Requirement already satisfied: appdirs in /usr/local/lib/python3.10/dist-packages (from pennylane) (1.4.4)\n",
            "Requirement already satisfied: networkx in /usr/local/lib/python3.10/dist-packages (from pennylane) (2.8.5)\n",
            "Requirement already satisfied: rustworkx in /usr/local/lib/python3.10/dist-packages (from pennylane) (0.13.1)\n",
            "Requirement already satisfied: future>=0.15.2 in /usr/local/lib/python3.10/dist-packages (from autograd<=1.5->pennylane) (0.18.2)\n",
            "Requirement already satisfied: urllib3<1.27,>=1.21.1 in /usr/local/lib/python3.10/dist-packages (from requests->pennylane) (1.26.11)\n",
            "Requirement already satisfied: charset-normalizer<3,>=2 in /usr/local/lib/python3.10/dist-packages (from requests->pennylane) (2.1.0)\n",
            "Requirement already satisfied: idna<4,>=2.5 in /usr/local/lib/python3.10/dist-packages (from requests->pennylane) (3.3)\n",
            "Requirement already satisfied: certifi>=2017.4.17 in /usr/local/lib/python3.10/dist-packages (from requests->pennylane) (2022.6.15)\n",
            "\u001b[33mWARNING: Running pip as the 'root' user can result in broken permissions and conflicting behaviour with the system package manager. It is recommended to use a virtual environment instead: https://pip.pypa.io/warnings/venv\u001b[0m\u001b[33m\n",
            "\u001b[0m"
          ]
        },
        {
          "name": "stderr",
          "output_type": "stream",
          "text": [
            "2023-08-01 09:08:02.340429: W tensorflow/compiler/tf2tensorrt/utils/py_utils.cc:38] TF-TRT Warning: Could not find TensorRT\n"
          ]
        }
      ],
      "source": [
        "!pip install -U pennylane\n",
        "import matplotlib.pyplot as plt\n",
        "from pennylane import numpy as np\n",
        "import pennylane as qml\n",
        "import tensorflow as tf\n",
        "from itertools import product"
      ]
    },
    {
      "cell_type": "code",
      "execution_count": 2,
      "metadata": {},
      "outputs": [
        {
          "name": "stdout",
          "output_type": "stream",
          "text": [
            "Name: PennyLane\n",
            "Version: 0.31.0\n",
            "Summary: PennyLane is a Python quantum machine learning library by Xanadu Inc.\n",
            "Home-page: https://github.com/PennyLaneAI/pennylane\n",
            "Author: \n",
            "Author-email: \n",
            "License: Apache License 2.0\n",
            "Location: /usr/local/lib/python3.10/dist-packages\n",
            "Requires: appdirs, autograd, autoray, cachetools, networkx, numpy, pennylane-lightning, requests, rustworkx, scipy, semantic-version, toml\n",
            "Required-by: PennyLane-Cirq, PennyLane-Lightning, PennyLane-qiskit, PennyLane-SF\n",
            "\n",
            "Platform info:           Linux-5.15.0-78-generic-x86_64-with-glibc2.35\n",
            "Python version:          3.10.4\n",
            "Numpy version:           1.22.4\n",
            "Scipy version:           1.9.0\n",
            "Installed devices:\n",
            "- lightning.qubit (PennyLane-Lightning-0.31.0)\n",
            "- default.gaussian (PennyLane-0.31.0)\n",
            "- default.mixed (PennyLane-0.31.0)\n",
            "- default.qubit (PennyLane-0.31.0)\n",
            "- default.qubit.autograd (PennyLane-0.31.0)\n",
            "- default.qubit.jax (PennyLane-0.31.0)\n",
            "- default.qubit.tf (PennyLane-0.31.0)\n",
            "- default.qubit.torch (PennyLane-0.31.0)\n",
            "- default.qutrit (PennyLane-0.31.0)\n",
            "- null.qubit (PennyLane-0.31.0)\n",
            "- qiskit.aer (PennyLane-qiskit-0.24.0)\n",
            "- qiskit.basicaer (PennyLane-qiskit-0.24.0)\n",
            "- qiskit.ibmq (PennyLane-qiskit-0.24.0)\n",
            "- qiskit.ibmq.circuit_runner (PennyLane-qiskit-0.24.0)\n",
            "- qiskit.ibmq.sampler (PennyLane-qiskit-0.24.0)\n",
            "- cirq.mixedsimulator (PennyLane-Cirq-0.24.0)\n",
            "- cirq.pasqal (PennyLane-Cirq-0.24.0)\n",
            "- cirq.qsim (PennyLane-Cirq-0.24.0)\n",
            "- cirq.qsimh (PennyLane-Cirq-0.24.0)\n",
            "- cirq.simulator (PennyLane-Cirq-0.24.0)\n",
            "- strawberryfields.fock (PennyLane-SF-0.20.1)\n",
            "- strawberryfields.gaussian (PennyLane-SF-0.20.1)\n",
            "- strawberryfields.gbs (PennyLane-SF-0.20.1)\n",
            "- strawberryfields.remote (PennyLane-SF-0.20.1)\n",
            "- strawberryfields.tf (PennyLane-SF-0.20.1)\n"
          ]
        }
      ],
      "source": [
        "qml.about()"
      ]
    },
    {
      "cell_type": "code",
      "execution_count": 3,
      "metadata": {},
      "outputs": [
        {
          "data": {
            "text/plain": [
              "'2.12.0'"
            ]
          },
          "execution_count": 3,
          "metadata": {},
          "output_type": "execute_result"
        }
      ],
      "source": [
        "# !pip install tensorflow=='2.12'\n",
        "tf.__version__  #tensorflow version이 2.13.0이면 문제 발생하니까 2.12로 바꿔서 설치하세요\n"
      ]
    },
    {
      "cell_type": "code",
      "execution_count": 4,
      "metadata": {
        "id": "qvR94D6sils3"
      },
      "outputs": [],
      "source": [
        "class Sigma:\n",
        "    def __init__(self, *args):\n",
        "            '''\n",
        "            Sigma class generates algebraic primitives required to compute the system of implicit ODEs for Euler angles.\n",
        "            '''\n",
        "            self.string = [i for i in args]\n",
        "            self.order = len(args)\n",
        "            self.digit = sum([args[i]*4**(self.order-i-1) for i in range(len(args))])\n",
        "            self.pauli = tf.constant([\n",
        "                 [[-1j/2,0],[0,-1j/2]],[[0, 1j/2],[1j/2, 0]],[[0, -1/2],[1/2, 0]],[[1j/2, 0],[0, -1j/2]]\n",
        "                      ],dtype=tf.complex64,shape=(4,2,2))\n",
        "            self.__struct_const_0 = tf.constant(\n",
        "                [\n",
        "                    np.zeros([4,4]),\n",
        "                    [[0.0, 0.0, 0.0, 0.0],[0.0, 0.0, 0.0, 0.0],[0.0, 0.0, 0.0, -1.0],[0.0, 0.0, 1.0, 0.0]],\n",
        "                    [[0.0, 0.0, 0.0, 0.0],[0.0, 0.0, 0.0, 1.0],[0.0, 0.0, 0.0, 0.0],[0.0, -1.0, 0.0, 0.0]],\n",
        "                    [[0.0, 0.0, 0.0, 0.0],[0.0, 0.0, -1.0, 0.0],[0.0, 1.0, 0.0, 0.0],[0.0, 0.0, 0.0, 0.0]]\n",
        "                    ], dtype=tf.complex64\n",
        "            )\n",
        "            self.__struct_const_1 = tf.constant(\n",
        "                [\n",
        "                    -1j*np.eye(4),\n",
        "                    -1j*np.array([[0.0, 1.0, 0.0, 0.0],[1.0, 0.0, 0.0, 0.0],[0.0, 0.0, 0.0, 0.0],[0.0, 0.0, 0.0, 0.0]]),\n",
        "                    -1j*np.array([[0.0, 0.0, 1.0, 0.0],[0.0, 0.0, 0.0, 0.0],[1.0, 0.0, 0.0, 0.0],[0.0, 0.0, 0.0, 0.0]]),\n",
        "                    -1j*np.array([[0.0, 0.0, 0.0, 1.0],[0.0, 0.0, 0.0, 0.0],[0.0, 0.0, 0.0, 0.0],[1.0, 0.0, 0.0, 0.0]])\n",
        "                    ], dtype=tf.complex64\n",
        "            )\n",
        "            self.__vector = tf.constant([\n",
        "                [1,0,0,0],\n",
        "                [0,1,0,0],\n",
        "                [0,0,1,0],\n",
        "                [0,0,0,1]], dtype=tf.float32\n",
        "            )\n",
        "            self.index_perm = list(range(0,self.order*2,2)) + list(range(1,self.order*2+1,2))\n",
        "            self.fundamental = self.rep_fundamental()\n",
        "            self.adjoint = self.rep_adjoint()\n",
        "            self.fundamental_z = tf.eye(2,dtype=tf.complex64)\n",
        "            for i in range(1,self.order):\n",
        "                self.fundamental_z = tf.tensordot(self.fundamental_z,tf.eye(2,dtype=tf.complex64),axes=0)\n",
        "            self.fundamental_z = tf.transpose(self.fundamental_z,perm=self.index_perm)\n",
        "            self.adjoint_z = tf.eye(4,dtype=tf.float32)\n",
        "            for i in range(1,self.order):\n",
        "                self.adjoint_z = tf.tensordot(self.adjoint_z,tf.eye(4,dtype=tf.float32),axes=0)\n",
        "            self.adjoint_z = tf.transpose(self.adjoint_z,perm=self.index_perm)\n",
        "            self.adjoint_square = tf.tensordot(self.adjoint,self.adjoint,axes=self.order)\n",
        "            self.adj_vec = self.adj_vector()\n",
        "\n",
        "    def rep_fundamental(self):\n",
        "        index = self.string\n",
        "        ret = self.pauli[index[0]]\n",
        "        for i in range(1,len(index)):\n",
        "            ret = 2j*tf.tensordot(ret,self.pauli[index[i]],axes=0)\n",
        "        return tf.transpose(ret,perm=self.index_perm)\n",
        "\n",
        "\n",
        "    def rep_adjoint(self):\n",
        "        return tf.transpose(tf.cast(self.__rep_adjoint(self.string),dtype=tf.float32),perm=self.index_perm)\n",
        "\n",
        "    def __rep_adjoint(self,sigma,center=False,grade=False):\n",
        "        order = len(sigma)\n",
        "        if grade:\n",
        "            ret = self.__struct_const_1[sigma[0]]\n",
        "        else:\n",
        "            ret = self.__struct_const_0[sigma[0]]\n",
        "\n",
        "        if order > 1:\n",
        "            if grade:\n",
        "                ret = 1.j* (\n",
        "                    tf.tensordot(self.__rep_adjoint(sigma[0:order-1],center=True,grade=True),  self.__rep_adjoint([sigma[order-1]],center=True,grade=True),axes=0) +\n",
        "                    tf.tensordot(self.__rep_adjoint(sigma[0:order-1],center=True,grade=False), self.__rep_adjoint([sigma[order-1]],center=True,grade=False),axes=0)\n",
        "                    )\n",
        "            else:\n",
        "                ret = 1.j* (\n",
        "                    tf.tensordot(self.__rep_adjoint(sigma[0:order-1],center=True,grade=True),  self.__rep_adjoint([sigma[order-1]],center=True,grade=False),axes=0) +\n",
        "                    tf.tensordot(self.__rep_adjoint(sigma[0:order-1],center=True,grade=False), self.__rep_adjoint([sigma[order-1]],center=True,grade=True),axes=0)\n",
        "                    )\n",
        "\n",
        "\n",
        "        return ret\n",
        "\n",
        "    def adj_vector(self):\n",
        "        index = self.string\n",
        "        ret = self.__vector[index[0]]\n",
        "        for i in range(1,len(index)):\n",
        "            ret = tf.tensordot(ret,self.__vector[index[i]],axes=0)\n",
        "        return ret\n",
        "    @tf.function\n",
        "    def exp_fundamental(self,x):\n",
        "        s = tf.cast(tf.math.sin(x/2),tf.complex64)\n",
        "        c = tf.cast(tf.math.cos(x/2),tf.complex64)\n",
        "        return tf.tensordot(c, self.fundamental_z,axes=0) + tf.tensordot(2*s,  self.fundamental,axes=0)\n",
        "    @tf.function\n",
        "    def exp_adjoint(self,x):\n",
        "        return self.adjoint_z + tf.tensordot(tf.math.sin(x), self.adjoint,axes=0) + tf.tensordot((1 - tf.math.cos(x)), self.adjoint_square,axes=0)"
      ]
    },
    {
      "cell_type": "code",
      "execution_count": 5,
      "metadata": {
        "id": "ObzmIg8Od0zT"
      },
      "outputs": [],
      "source": [
        "class Euler():\n",
        "    def __init__(self, order):\n",
        "        self.order = order\n",
        "        self.basis = np.array(list(product([0,1,2,3], repeat = order)))\n",
        "        self.toral = np.array(list(product([0,3], repeat = order)))\n",
        "        self.kprime = self.__kprime(order)\n",
        "        self.aprime = self.__aprime(order)\n",
        "        self.k = self.__k(order)\n",
        "        self.a = self.__a(order)\n",
        "        self.kak = np.concatenate((self.k,self.a,self.k),axis=0)\n",
        "        self.generator = self.__generator(order)\n",
        "        self.dim = len(self.kak)\n",
        "\n",
        "    def __kak(self,order):\n",
        "        if order == 1:\n",
        "            return np.array([[3],[1],[3]])\n",
        "        else:\n",
        "            # return self.__a(order-1)\n",
        "            return np.concatenate((self.__k(order),self.__a(order),self.__k(order)),axis=0)\n",
        "\n",
        "    def __kprime(self,order):\n",
        "        if order == 1:\n",
        "            return np.array([],dtype=np.int32)\n",
        "        else:\n",
        "            # print(self.__kak(order-1))\n",
        "            return np.insert(self.__kak(order-1),0,0,axis=1)\n",
        "\n",
        "    def __aprime(self,order):\n",
        "        if order == 1:\n",
        "            return np.array([],dtype=np.int32)\n",
        "        else:\n",
        "            return np.insert(np.array(list(product([0,3], repeat = order-1))),0,3,axis=1)\n",
        "\n",
        "    def __k(self,order):\n",
        "        if order == 1:\n",
        "            return np.array([[3]])\n",
        "        else:\n",
        "            # print(self.kprime)\n",
        "            # return np.concatenate((self.kprime,self.aprime,self.kprime),axis=0)\n",
        "            return np.concatenate((self.__kprime(order),self.__aprime(order),self.__kprime(order)),axis=0)\n",
        "\n",
        "    def __a(self,order):\n",
        "        if order == 1:\n",
        "            return np.array([[1]])\n",
        "        else:\n",
        "            return np.insert(np.array(list(product([0,3], repeat = order-1))),0,1,axis=1)\n",
        "\n",
        "    def __generator(self,order):\n",
        "        if order == 1:\n",
        "            return np.array([[1],[3]])\n",
        "        else:\n",
        "            ret = np.insert(self.__generator(order-1),0,0,axis=1)\n",
        "            return np.concatenate((ret,self.__a(order),self.__aprime(order)),axis=0)"
      ]
    },
    {
      "cell_type": "code",
      "execution_count": 6,
      "metadata": {
        "id": "MxKRdo80Ye2o"
      },
      "outputs": [],
      "source": [
        "dev = qml.device(\"default.qubit\", wires=1)\n",
        "def circuit(params, wires=0):\n",
        "    qml.RX(params[0], wires=wires)\n",
        "    qml.RY(params[1], wires=wires) #ansatz"
      ]
    },
    {
      "cell_type": "markdown",
      "metadata": {},
      "source": [
        "##### qml.Hamiltonian: Hamiltonian은 다른 operator들의 linear combination으로 구성됩니다. 즉, $\\sum_{k=0}^{n-1} c_{k}O_{k}$입니다. 여기서 $c_{k}$는 훈련시킬 수 있는 parameter입니다."
      ]
    },
    {
      "cell_type": "code",
      "execution_count": 7,
      "metadata": {
        "id": "9k-Z75JiYuHB"
      },
      "outputs": [],
      "source": [
        "coeffs = [1, 1]\n",
        "obs = [qml.PauliX(0), qml.PauliZ(0)]\n",
        "\n",
        "H = qml.Hamiltonian(coeffs, obs)  #define Hamiltonian\n",
        "\n",
        "@qml.qnode(dev, interface=\"autograd\") #parameter shift\n",
        "def cost_fn(params):    #정의한 hamiltonian에 대한 기댓값을 구합니다.\n",
        "    circuit(params)\n",
        "    return qml.expval(H)"
      ]
    },
    {
      "cell_type": "code",
      "execution_count": 8,
      "metadata": {
        "id": "z8QY7BtlYy-V"
      },
      "outputs": [],
      "source": [
        "init_params = np.array([3.97507603, 3.00854038], requires_grad=True)"
      ]
    },
    {
      "cell_type": "code",
      "execution_count": 9,
      "metadata": {
        "id": "crxFYAkaYzj2"
      },
      "outputs": [],
      "source": [
        "max_iterations = 500\n",
        "conv_tol = 1e-06\n",
        "#step_size = 0.1 #learning rate"
      ]
    },
    {
      "cell_type": "markdown",
      "metadata": {},
      "source": [
        "#### Pennylane의 GradientDescentOptimizer 클래스를 불러와 최적화 하기\n",
        "\n",
        "##### GradientDescentOptimzer의 [document](https://docs.pennylane.ai/en/stable/code/api/pennylane.GradientDescentOptimizer.html)\n",
        "\n",
        "##### 일반적인 GradientDescent 방식으로 최적화합니다. 아래의 식을 따릅니다. $$x^{\\left(t+1\\right)} = x^{\\left(t\\right)} - \\eta\\nabla f\\left(x^{\\left(t\\right)}\\right)$$ 여기서 $\\eta$는 유저가 인자 stepsize를 통해 정의할 수 있습니다."
      ]
    },
    {
      "cell_type": "code",
      "execution_count": 10,
      "metadata": {
        "colab": {
          "base_uri": "https://localhost:8080/"
        },
        "id": "o0ZEmFIjY23g",
        "outputId": "4dac2c7c-b471-4758-9a19-d6ba1fc4089f"
      },
      "outputs": [
        {
          "name": "stdout",
          "output_type": "stream",
          "text": [
            "Iteration = 0,  Energy = 0.48118828 Ha,  Convergence parameter = 0.09598332 Ha\n",
            "Iteration = 20,  Energy = -0.46381708 Ha,  Convergence parameter = 0.08210876 Ha\n",
            "Iteration = 40,  Energy = -1.40651648 Ha,  Convergence parameter = 0.00272091 Ha\n",
            "Iteration = 60,  Energy = -1.41419617 Ha,  Convergence parameter = 0.00000620 Ha\n",
            "\n",
            "Final value of the energy = -1.41421077 Ha\n",
            "Number of iterations =  66\n"
          ]
        }
      ],
      "source": [
        "#opt = qml.GradientDescentOptimizer(stepsize=step_size)\n",
        "opt = qml.GradientDescentOptimizer(stepsize=0.1)\n",
        "\n",
        "params = init_params\n",
        "\n",
        "gd_param_history = [params]\n",
        "gd_cost_history = []\n",
        "\n",
        "for n in range(max_iterations):\n",
        "\n",
        "    # Take step\n",
        "    params, prev_energy = opt.step_and_cost(cost_fn, params)\n",
        "    gd_param_history.append(params)\n",
        "    gd_cost_history.append(prev_energy)\n",
        "\n",
        "    energy = cost_fn(params)\n",
        "\n",
        "    # Calculate difference between new and old energies\n",
        "    conv = np.abs(energy - prev_energy)\n",
        "\n",
        "    if n % 20 == 0:\n",
        "        print(\n",
        "            \"Iteration = {:},  Energy = {:.8f} Ha,  Convergence parameter = {\"\n",
        "            \":.8f} Ha\".format(n, energy, conv)\n",
        "        )\n",
        "\n",
        "    if conv <= conv_tol:\n",
        "        break\n",
        "\n",
        "print()\n",
        "print(\"Final value of the energy = {:.8f} Ha\".format(energy))\n",
        "print(\"Number of iterations = \", n)"
      ]
    },
    {
      "cell_type": "markdown",
      "metadata": {},
      "source": [
        "#### Pennylane의 QNGOptimizer 클래스를 불러와 최적화하기\n",
        "\n",
        "##### QNGOptimzer의 [document](https://docs.pennylane.ai/en/stable/code/api/pennylane.QNGOptimizer.html)\n",
        "\n",
        "##### Fubini-Study metric tensor에 diagonal 혹은 block-diagonal 근사를 하여 learning rate를 지속적으로 수정하는 optimizer입니다.\n",
        "\n",
        "##### QNG optimizer는 Fubini-Study metric tensor $g$의 pseudo-inverse에 기반한 step과 parameter에 영향을 받는 learning rate를 사용합니다. $$x^{\\left(t+1\\right)} = x^{\\left(t\\right)} - \\eta g\\left(f\\left(x^{\\left(t\\right)}\\right)\\right)^{-1} \\nabla f\\left(x^{\\left(t\\right)}\\right)$$ 여기서 $f\\left(x^{\\left(t\\right)}\\right) = \\bra{0}U\\left(x^{\\left(t\\right)}\\right)^{\\dagger}\\hat{B}U\\left(x^{\\left(t\\right)}\\right)\\ket{0}$는 variational quantum circuit $U\\left(x^{\\left(t\\right)}\\right)$에서 측정된 observable의 기댓값입니다."
      ]
    },
    {
      "cell_type": "markdown",
      "metadata": {},
      "source": [
        "##### Variational Quantum Circuit으로 표현된 Quantum Node를 생각해봅시다. $$ U\\left(\\theta\\right) = W\\left(\\theta_{i+1},\\cdots,\\theta_{N}\\right)X\\left(\\theta_{i}\\right)V\\left(\\theta_{1},\\cdots,\\theta_{i-1}\\right)$$ 여기서 모든 parametrized gate들은 $X\\left(\\theta_{i}\\right) = e^{i\\theta_{i}K_{i}}$로 표현될 수 있습니다.<br>\n",
        "\n",
        "##### 즉, 게이트 $K_{i}$가 $i$번째 파라미터에 대응하는 parameterized operation $X\\left(\\theta_{i}\\right)$의 *generator*입니다.<br>"
      ]
    },
    {
      "cell_type": "code",
      "execution_count": 11,
      "metadata": {
        "colab": {
          "base_uri": "https://localhost:8080/"
        },
        "id": "rRqoP5pzY6YO",
        "outputId": "f9accdef-8711-4c37-b00b-0226142b6b35"
      },
      "outputs": [
        {
          "name": "stdout",
          "output_type": "stream",
          "text": [
            "Iteration = 0,  Energy = -0.01070497 Ha,  Convergence parameter = 0.58787657 Ha\n",
            "\n",
            "Final value of the energy = -1.41421347 Ha\n",
            "Number of iterations =  11\n"
          ]
        }
      ],
      "source": [
        "#opt = qml.QNGOptimizer(stepsize=step_size, approx=\"block-diag\")\n",
        "opt = qml.QNGOptimizer(stepsize=0.1, approx=\"block-diag\")\n",
        "\n",
        "params = init_params\n",
        "\n",
        "qngd_param_history = [params]\n",
        "qngd_cost_history = []\n",
        "\n",
        "for n in range(max_iterations):\n",
        "\n",
        "    # Take step\n",
        "    params, prev_energy = opt.step_and_cost(cost_fn, params)\n",
        "    qngd_param_history.append(params)\n",
        "    qngd_cost_history.append(prev_energy)\n",
        "\n",
        "    # Compute energy\n",
        "    energy = cost_fn(params)\n",
        "\n",
        "    # Calculate difference between new and old energies\n",
        "    conv = np.abs(energy - prev_energy)\n",
        "\n",
        "    if n % 20 == 0:\n",
        "        print(\n",
        "            \"Iteration = {:},  Energy = {:.8f} Ha,  Convergence parameter = {\"\n",
        "            \":.8f} Ha\".format(n, energy, conv)\n",
        "        )\n",
        "\n",
        "    if conv <= conv_tol:\n",
        "        break\n",
        "\n",
        "print()\n",
        "print(\"Final value of the energy = {:.8f} Ha\".format(energy))\n",
        "print(\"Number of iterations = \", n)"
      ]
    },
    {
      "cell_type": "code",
      "execution_count": 12,
      "metadata": {
        "id": "kGf0-JjaZBIV"
      },
      "outputs": [
        {
          "name": "stderr",
          "output_type": "stream",
          "text": [
            "2023-08-01 09:08:07.585337: W tensorflow/core/common_runtime/gpu/gpu_device.cc:1956] Cannot dlopen some GPU libraries. Please make sure the missing libraries mentioned above are installed properly if you would like to use GPU. Follow the guide at https://www.tensorflow.org/install/gpu for how to download and setup the required libraries for your platform.\n",
            "Skipping registering GPU devices...\n"
          ]
        }
      ],
      "source": [
        "@qml.qnode(dev, interface=\"tf\")\n",
        "def tf_cost_fn(params):\n",
        "    circuit(params)\n",
        "    return qml.expval(H)"
      ]
    },
    {
      "cell_type": "code",
      "execution_count": 13,
      "metadata": {
        "id": "seWLaPp3b7WN"
      },
      "outputs": [],
      "source": [
        "tf.random.set_seed(42)\n",
        "n_neuron = 8 #hidden layer\n",
        "\n",
        "nn_vars = tf.keras.models.Sequential([\n",
        "    tf.keras.layers.Input((1,)), #input neuron 1\n",
        "    tf.keras.layers.Dense(n_neuron, activation='tanh'),\n",
        "    tf.keras.layers.Dense(2) #output\n",
        "])"
      ]
    },
    {
      "cell_type": "markdown",
      "metadata": {},
      "source": [
        "##### Tensorflow를 이용해 Classical하게 최적화하기"
      ]
    },
    {
      "cell_type": "code",
      "execution_count": 14,
      "metadata": {
        "colab": {
          "base_uri": "https://localhost:8080/"
        },
        "id": "dpdQ-ZRVcKRE",
        "outputId": "ce9d0e71-6133-4512-ba6d-347458cfcb0f"
      },
      "outputs": [
        {
          "name": "stdout",
          "output_type": "stream",
          "text": [
            "epoch: 1, loss: 0.2851590689849563, convergence 0.2851590689849563\n",
            "epoch: 2, loss: 0.2026917338724838, convergence 0.0824673351124725\n",
            "epoch: 3, loss: 0.12866993852360026, convergence 0.07402179534888353\n",
            "epoch: 4, loss: 0.0643721334287164, convergence 0.06429780509488386\n",
            "epoch: 5, loss: 0.010237663373732497, convergence 0.054134470054983896\n",
            "epoch: 6, loss: -0.03480051402874046, convergence 0.045038177402472956\n",
            "epoch: 7, loss: -0.07383163390468395, convergence 0.03903111987594349\n",
            "epoch: 8, loss: -0.11170225460256533, convergence 0.037870620697881385\n",
            "epoch: 9, loss: -0.15363880123203671, convergence 0.04193654662947138\n",
            "epoch: 10, loss: -0.20361567042457596, convergence 0.04997686919253924\n",
            "epoch: 11, loss: -0.26392321418429854, convergence 0.06030754375972258\n",
            "epoch: 12, loss: -0.33550113983948027, convergence 0.07157792565518173\n",
            "epoch: 13, loss: -0.41824660603410335, convergence 0.08274546619462309\n",
            "epoch: 14, loss: -0.511175590476344, convergence 0.09292898444224063\n",
            "epoch: 15, loss: -0.6125141981255321, convergence 0.10133860764918812\n",
            "epoch: 16, loss: -0.7197849074021202, convergence 0.1072707092765881\n",
            "epoch: 17, loss: -0.8299123831127451, convergence 0.11012747571062487\n",
            "epoch: 18, loss: -0.9393685141405723, convergence 0.10945613102782725\n",
            "epoch: 19, loss: -1.0443646373165418, convergence 0.10499612317596951\n",
            "epoch: 20, loss: -1.1410929566650472, convergence 0.09672831934850534\n",
            "epoch: 21, loss: -1.2260136028492852, convergence 0.084920646184238\n",
            "epoch: 22, loss: -1.2961759291822665, convergence 0.07016232633298136\n",
            "epoch: 23, loss: -1.349545275583715, convergence 0.053369346401448414\n",
            "epoch: 24, loss: -1.385299359394208, convergence 0.035754083810493054\n",
            "epoch: 25, loss: -1.404037422096788, convergence 0.01873806270257994\n",
            "epoch: 26, loss: -1.4078247939005712, convergence 0.0037873718037833015\n",
            "epoch: 27, loss: -1.3999930188716776, convergence 0.00783177502889365\n",
            "epoch: 28, loss: -1.3846648178020726, convergence 0.015328201069604974\n",
            "epoch: 29, loss: -1.3660868461380766, convergence 0.018577971663995996\n",
            "epoch: 30, loss: -1.3479737026110554, convergence 0.018113143527021203\n",
            "epoch: 31, loss: -1.3330778080784955, convergence 0.014895894532559906\n",
            "epoch: 32, loss: -1.323057305695224, convergence 0.010020502383271568\n",
            "epoch: 33, loss: -1.3185724280329656, convergence 0.0044848776622583575\n",
            "epoch: 34, loss: -1.31949272102539, convergence 0.0009202929924243541\n",
            "epoch: 35, loss: -1.3251237694107987, convergence 0.005631048385408732\n",
            "epoch: 36, loss: -1.3344154987044647, convergence 0.009291729293666062\n",
            "epoch: 37, loss: -1.3461371549540642, convergence 0.011721656249599421\n",
            "epoch: 38, loss: -1.359024977498791, convergence 0.012887822544726868\n",
            "epoch: 39, loss: -1.3719035541375546, convergence 0.012878576638763573\n",
            "epoch: 40, loss: -1.3837824528692848, convergence 0.011878898731730203\n",
            "epoch: 41, loss: -1.3939234498938866, convergence 0.010140997024601806\n",
            "epoch: 42, loss: -1.4018758546592143, convergence 0.007952404765327659\n",
            "epoch: 43, loss: -1.4074753527071806, convergence 0.005599498047966334\n",
            "epoch: 44, loss: -1.410811906696349, convergence 0.0033365539891683227\n",
            "epoch: 45, loss: -1.4121730389955336, convergence 0.0013611322991846642\n",
            "epoch: 46, loss: -1.4119756366882206, convergence 0.00019740230731302155\n",
            "epoch: 47, loss: -1.4106950895545718, convergence 0.0012805471336487795\n",
            "epoch: 48, loss: -1.4088031617317283, convergence 0.001891927822843531\n",
            "epoch: 49, loss: -1.4067217200949012, convergence 0.0020814416368271083\n",
            "epoch: 50, loss: -1.4047935083331287, convergence 0.0019282117617724914\n",
            "epoch: 51, loss: -1.4032663768801696, convergence 0.0015271314529590185\n",
            "epoch: 52, loss: -1.402293252172202, convergence 0.0009731247079676209\n",
            "epoch: 53, loss: -1.4019382091817407, convergence 0.00035504299046129617\n",
            "epoch: 54, loss: -1.4021909866578417, convergence 0.0002527774761009738\n",
            "epoch: 55, loss: -1.402981521283527, convergence 0.0007905346256853463\n",
            "epoch: 56, loss: -1.404198317682518, convergence 0.0012167963989908603\n",
            "epoch: 57, loss: -1.4057039663601727, convergence 0.0015056486776547917\n",
            "epoch: 58, loss: -1.4073521151799722, convergence 0.0016481488197994665\n",
            "epoch: 59, loss: -1.4090006166326834, convergence 0.0016485014527112263\n",
            "epoch: 60, loss: -1.4105249145746908, convergence 0.0015242979420073688\n",
            "epoch: 61, loss: -1.411825540618516, convergence 0.0013006260438253037\n",
            "epoch: 62, loss: -1.4128364158494406, convergence 0.0010108752309245794\n",
            "epoch: 63, loss: -1.4135266630538554, convergence 0.0006902472044147956\n",
            "epoch: 64, loss: -1.4139001192777083, convergence 0.0003734562238528749\n",
            "epoch: 65, loss: -1.4139912474372576, convergence 9.112815954925857e-05\n",
            "epoch: 66, loss: -1.4138579300828935, convergence 0.00013331735436405978\n",
            "epoch: 67, loss: -1.4135733347005028, convergence 0.0002845953823906733\n",
            "epoch: 68, loss: -1.4132148904726867, convergence 0.00035844422781616814\n",
            "epoch: 69, loss: -1.412856201159822, convergence 0.0003586893128646462\n",
            "epoch: 70, loss: -1.4125581221564119, convergence 0.0002980790034101677\n",
            "epoch: 71, loss: -1.4123633023962905, convergence 0.00019481976012136748\n",
            "epoch: 72, loss: -1.4122942310500801, convergence 6.907134621036981e-05\n",
            "epoch: 73, loss: -1.4123523876124535, convergence 5.81565623734015e-05\n",
            "epoch: 74, loss: -1.4125221732721287, convergence 0.00016978565967518122\n",
            "epoch: 75, loss: -1.412774933395386, convergence 0.0002527601232573673\n",
            "epoch: 76, loss: -1.4130744920184188, convergence 0.0002995586230327696\n",
            "epoch: 77, loss: -1.4133836830995565, convergence 0.0003091910811376941\n",
            "epoch: 78, loss: -1.413669154287452, convergence 0.00028547118789545856\n",
            "epoch: 79, loss: -1.413905143891462, convergence 0.0002359896040100562\n",
            "epoch: 80, loss: -1.4140758384050782, convergence 0.00017069451361617638\n",
            "epoch: 81, loss: -1.4141759600935855, convergence 0.00010012168850725978\n",
            "epoch: 82, loss: -1.4142104276665897, convergence 3.446757300418213e-05\n",
            "epoch: 83, loss: -1.4141907637732762, convergence 1.9663893313426328e-05\n",
            "epoch: 84, loss: -1.4141339799837473, convergence 5.6783789528891404e-05\n",
            "epoch: 85, loss: -1.414058471953998, convergence 7.550802974942705e-05\n",
            "epoch: 86, loss: -1.4139817717719874, convergence 7.670018201055839e-05\n",
            "epoch: 87, loss: -1.4139181936467176, convergence 6.357812526980311e-05\n",
            "epoch: 88, loss: -1.413877398217552, convergence 4.0795429165463304e-05\n",
            "epoch: 89, loss: -1.413863869495609, convergence 1.3528721943156796e-05\n",
            "epoch: 90, loss: -1.4138774672067378, convergence 1.3597711128854328e-05\n",
            "epoch: 91, loss: -1.4139135299119854, convergence 3.6062705247585924e-05\n",
            "epoch: 92, loss: -1.4139652024162905, convergence 5.16725043051558e-05\n",
            "epoch: 93, loss: -1.4140242890621404, convergence 5.9086645849859565e-05\n",
            "epoch: 94, loss: -1.4140825903591507, convergence 5.830129701034359e-05\n",
            "epoch: 95, loss: -1.4141337980155644, convergence 5.120765641364322e-05\n",
            "epoch: 96, loss: -1.4141731139598055, convergence 3.9315944241113954e-05\n",
            "epoch: 97, loss: -1.4141985951663252, convergence 2.5481206519684108e-05\n",
            "epoch: 98, loss: -1.4142099849179455, convergence 1.138975162029432e-05\n"
          ]
        }
      ],
      "source": [
        "import logging\n",
        "logging.getLogger('tensorflow').setLevel(logging.ERROR)\n",
        "optim = tf.keras.optimizers.Adam(learning_rate=0.01)\n",
        "\n",
        "nn_param_history = [nn_vars(tf.constant([1.]))]\n",
        "nn_cost_history = []\n",
        "\n",
        "for epoch in range(1,max_iterations+1):\n",
        "    with tf.GradientTape() as tape: #autodiff(backward)\n",
        "\n",
        "        loss = tf_cost_fn(*nn_vars(tf.constant([1.])))\n",
        "    if len(nn_cost_history) > 0:\n",
        "      conv = tf.abs(nn_cost_history[-1] - loss)\n",
        "    else:\n",
        "      conv = loss\n",
        "    nn_cost_history.append(loss)\n",
        "    gradients = tape.gradient(loss, nn_vars.trainable_variables);\n",
        "    optim.apply_gradients(zip(gradients, nn_vars.trainable_variables));\n",
        "    nn_param_history.append(nn_vars(tf.constant([1.])))\n",
        "    # conv = tf.abs(tf_cost_fn(*nn_vars(tf.constant([1.]))) - loss)\n",
        "    if conv <= conv_tol:\n",
        "        break\n",
        "    print(\"epoch: {}, loss: {}, convergence {}\".format(epoch, loss, conv))"
      ]
    },
    {
      "cell_type": "code",
      "execution_count": 15,
      "metadata": {
        "colab": {
          "base_uri": "https://localhost:8080/",
          "height": 559
        },
        "id": "cWpZjJdaY9sh",
        "outputId": "1986b8e8-61cd-4203-fac0-e6d1c3a802bc"
      },
      "outputs": [
        {
          "data": {
            "image/png": "[encoded data removed]",
            "text/plain": [
              "<Figure size 432x288 with 1 Axes>"
            ]
          },
          "metadata": {
            "needs_background": "light"
          },
          "output_type": "display_data"
        }
      ],
      "source": [
        "plt.style.use(\"seaborn\")\n",
        "plt.plot(gd_cost_history, \"b\", label=\"Gradient descent\")\n",
        "plt.plot(qngd_cost_history, \"g\", label=\"Quantum natural gradient descent\")\n",
        "plt.plot(nn_cost_history, \"r\", label=\"Neural network\")\n",
        "\n",
        "plt.ylabel(\"Cost function value\")\n",
        "plt.xlabel(\"Optimization steps\")\n",
        "plt.legend()\n",
        "plt.show()"
      ]
    },
    {
      "cell_type": "code",
      "execution_count": 16,
      "metadata": {
        "id": "V448pi2Hca3s"
      },
      "outputs": [],
      "source": [
        "#multi-variable은 구현이 어려움\n",
        "def pauli_string(sigma): #rotation operator 만들어줌\n",
        "    '''\n",
        "    translates sigma strings in Euler class to Pauli words in Pennylane.\n",
        "    '''\n",
        "    pauli_alphabet = [\"I\",\"X\",\"Y\",\"Z\"]\n",
        "    return \"\".join([pauli_alphabet[sigma[j]] for j in range(len(sigma))])\n",
        "def generate_qc_sk(eu):\n",
        "    '''\n",
        "    generates a universal parametric quantum circuit by using the KAK decomposition.\n",
        "    '''\n",
        "    pauli_ps = [pauli_string(s) for s in eu.basis]\n",
        "    dim = len(pauli_ps)\n",
        "\n",
        "    def qc_sk(theta):\n",
        "        for i in range(eu.dim):\n",
        "            qml.PauliRot(theta[i], pauli_ps[i], wires = list(range(eu.order))) #pauli rotation, pauli state\n",
        "    return qc_sk"
      ]
    },
    {
      "cell_type": "code",
      "execution_count": 17,
      "metadata": {
        "id": "-o6kdhg7eaOz"
      },
      "outputs": [],
      "source": [
        "def x_up(qw,adjoint=False):\n",
        "    if adjoint:\n",
        "        qml.adjoint(qml.Hadamard(qw)) #|+> = |0> - H\n",
        "    else:\n",
        "        qml.Hadamard(wires=qw)\n",
        "\n",
        "def x_down(qw,adjoint=False):\n",
        "    if adjoint:\n",
        "        qml.adjoint(qml.Hadamard(qw))\n",
        "        qml.adjoint(qml.PauliX(qw))\n",
        "    else:\n",
        "        qml.PauliX(wires=qw)\n",
        "        qml.Hadamard(wires=qw)\n",
        "\n",
        "def y_up(qw,adjoint=False):\n",
        "    if adjoint:\n",
        "        qml.adjoint(qml.S(wires=qw))\n",
        "        qml.adjoint(qml.Hadamard(wires=qw))\n",
        "    else:\n",
        "        qml.Hadamard(wires=qw)\n",
        "        qml.S(wires=qw)\n",
        "\n",
        "def y_down(qw,adjoint=False):\n",
        "    if adjoint:\n",
        "        qml.adjoint(qml.S(wires=qw))\n",
        "        qml.adjoint(qml.Hadamard(wires=qw))\n",
        "        qml.adjoint(qml.PauliX(wires=qw))\n",
        "    else:\n",
        "        qml.PauliX(wires=qw)\n",
        "        qml.Hadamard(wires=qw)\n",
        "        qml.S(wires=qw)\n",
        "\n",
        "def z_up(qw,adjoint=False):\n",
        "    if adjoint:\n",
        "        qml.adjoint(qml.Identity(wires=qw))\n",
        "    else:\n",
        "        qml.Identity(wires=qw)\n",
        "\n",
        "def z_down(qw,adjoint=False):\n",
        "    if adjoint:\n",
        "        qml.adjoint(qml.PauliX(wires=qw))\n",
        "    else:\n",
        "        qml.PauliX(wires=qw)\n",
        "\n",
        "def initial_state(sigma,adjoint=False):\n",
        "    ###\n",
        "    0-5  # 0 xup 1 xdown 2yup ....\n",
        "    ###\n",
        "    init_state = [x_up,x_down,y_up,y_down,z_up,z_down]\n",
        "    order = len(sigma)\n",
        "    for i in range(0,order):\n",
        "        init_state[sigma[i]](i,adjoint)\n",
        "\n",
        "\n",
        "def sign_theta(eu):\n",
        "    sign_flat =  tf.constant(qml.pauli_decompose((2.j*sum([tf.reshape(Sigma(*[0]*eu.order).fundamental,[2**eu.order,2**eu.order])] + [tf.reshape(Sigma(*s).fundamental,[2**eu.order,2**eu.order]) for s in eu.basis])).numpy()).coeffs)\n",
        "    sign = tf.reshape(sign_flat,[4]*eu.order)\n",
        "    return tf.constant(np.array([sign[tuple(s)] for s in eu.basis]))"
      ]
    },
    {
      "cell_type": "code",
      "execution_count": 18,
      "metadata": {
        "id": "f72M2ppgeDV3"
      },
      "outputs": [],
      "source": [
        "eu = Euler(2) # 2qubit : 2, single:1\n",
        "basis_ps = [pauli_string(s) for s in eu.basis]\n",
        "basis_sign = sign_theta(eu)\n",
        "qc_dev = qml.device('default.qubit', wires=eu.order)\n",
        "\n",
        "@qml.qnode(qc_dev, interface='tf')\n",
        "def qc_sk(theta,state,target):\n",
        "  initial_state(state)\n",
        "  for i in range(len(basis_ps)-1,-1,-1):\n",
        "    qml.PauliRot(basis_sign[i]*theta[i], basis_ps[i], wires = list(range(eu.order)))\n",
        "\n",
        "  qml.adjoint(target)\n",
        "  initial_state(state,adjoint=True) # VdaggerU(theta)|psi> = 1 -> 역으로 정의\n",
        "  return qml.probs(list(range(eu.order)))"
      ]
    },
    {
      "cell_type": "code",
      "execution_count": 19,
      "metadata": {
        "id": "JqjjL5N2faR9"
      },
      "outputs": [],
      "source": [
        "tf.random.set_seed(42)\n",
        "n_neuron = 8\n",
        "\n",
        "nn_theta = tf.keras.models.Sequential([\n",
        "    tf.keras.layers.Input((1,)),\n",
        "    tf.keras.layers.Dense(n_neuron, activation='tanh'),\n",
        "    tf.keras.layers.Dense(16) # 2qubits -> 16, single -> 4\n",
        "])\n"
      ]
    },
    {
      "cell_type": "code",
      "execution_count": 20,
      "metadata": {
        "colab": {
          "base_uri": "https://localhost:8080/",
          "height": 238
        },
        "id": "xIddEgEejWKK",
        "outputId": "d3ffa911-0e0e-4f5c-d257-8fe308596a84"
      },
      "outputs": [
        {
          "data": {
            "text/plain": [
              "(<Figure size 1584x216 with 1 Axes>, <Axes:>)"
            ]
          },
          "execution_count": 20,
          "metadata": {},
          "output_type": "execute_result"
        },
        {
          "data": {
            "image/png": "[encoded data removed]",
            "text/plain": [
              "<Figure size 1584x216 with 1 Axes>"
            ]
          },
          "metadata": {},
          "output_type": "display_data"
        }
      ],
      "source": [
        "qml.draw_mpl(qc_sk)(*nn_theta(tf.constant([1.])),[0,4],qml.CNOT(wires=[0,1])) # input RZ RY RX RI H+ output measure"
      ]
    },
    {
      "cell_type": "code",
      "execution_count": 21,
      "metadata": {
        "colab": {
          "base_uri": "https://localhost:8080/",
          "height": 245
        },
        "id": "Oe1XDWSxgsbJ",
        "outputId": "4fcfb091-9150-4313-df35-e30deaa5a0f6"
      },
      "outputs": [
        {
          "name": "stdout",
          "output_type": "stream",
          "text": [
            "epoch: 1, loss: 4.911426896763506, convergence 4.911426896763506\n",
            "epoch: 2, loss: 4.54373346050928, convergence 0.3676934362542257\n",
            "epoch: 3, loss: 4.248620189332189, convergence 0.2951132711770912\n",
            "epoch: 4, loss: 4.019242938360835, convergence 0.2293772509713543\n",
            "epoch: 5, loss: 3.833436847522165, convergence 0.1858060908386694\n",
            "epoch: 6, loss: 3.6739342502302184, convergence 0.15950259729194682\n",
            "epoch: 7, loss: 3.528907742237655, convergence 0.14502650799256323\n",
            "epoch: 8, loss: 3.390955050395375, convergence 0.1379526918422802\n",
            "epoch: 9, loss: 3.256995067436022, convergence 0.13395998295935296\n",
            "epoch: 10, loss: 3.1258683445886883, convergence 0.13112672284733362\n",
            "epoch: 11, loss: 2.995885801571095, convergence 0.12998254301759316\n",
            "epoch: 12, loss: 2.8644417381907945, convergence 0.13144406338030068\n",
            "epoch: 13, loss: 2.7291985917222967, convergence 0.13524314646849778\n",
            "epoch: 14, loss: 2.5885024066750066, convergence 0.1406961850472901\n",
            "epoch: 15, loss: 2.4411412592304504, convergence 0.1473611474445562\n",
            "epoch: 16, loss: 2.286332407045604, convergence 0.1548088521848463\n",
            "epoch: 17, loss: 2.1239698697384104, convergence 0.16236253730719374\n",
            "epoch: 18, loss: 1.9548383258576267, convergence 0.16913154388078366\n",
            "epoch: 19, loss: 1.7804235640932573, convergence 0.17441476176436943\n",
            "epoch: 20, loss: 1.602436967210414, convergence 0.17798659688284335\n",
            "epoch: 21, loss: 1.4222943446669447, convergence 0.18014262254346924\n",
            "epoch: 22, loss: 1.2406447799552938, convergence 0.18164956471165095\n",
            "epoch: 23, loss: 1.058104264995648, convergence 0.18254051495964574\n",
            "epoch: 24, loss: 0.8763640641216104, convergence 0.18174020087403764\n",
            "epoch: 25, loss: 0.6986624842839755, convergence 0.1777015798376349\n",
            "epoch: 26, loss: 0.5300462316195056, convergence 0.1686162526644699\n",
            "epoch: 27, loss: 0.37725900804184054, convergence 0.15278722357766505\n",
            "epoch: 28, loss: 0.24750966556119303, convergence 0.1297493424806475\n",
            "epoch: 29, loss: 0.14688984060974297, convergence 0.10061982495145005\n",
            "epoch: 30, loss: 0.0788975942386303, convergence 0.06799224637111267\n",
            "epoch: 31, loss: 0.04279582007321148, convergence 0.03610177416541882\n",
            "epoch: 32, loss: 0.03295347260616055, convergence 0.009842347467050927\n",
            "epoch: 33, loss: 0.04062930227565642, convergence 0.0076758296694958705\n",
            "epoch: 34, loss: 0.05720786752180429, convergence 0.01657856524614787\n",
            "epoch: 35, loss: 0.07617492686999427, convergence 0.018967059348189985\n",
            "epoch: 36, loss: 0.09335175051689304, convergence 0.017176823646898765\n",
            "epoch: 37, loss: 0.10646320840594514, convergence 0.013111457889052103\n",
            "epoch: 38, loss: 0.11458545801860343, convergence 0.008122249612658283\n",
            "epoch: 39, loss: 0.11756555144071978, convergence 0.002980093422116359\n",
            "epoch: 40, loss: 0.11560908621788402, convergence 0.001956465222835768\n",
            "epoch: 41, loss: 0.10919749367960097, convergence 0.006411592538283051\n",
            "epoch: 42, loss: 0.09907569859865861, convergence 0.010121795080942353\n",
            "epoch: 43, loss: 0.08621534425294486, convergence 0.012860354345713754\n",
            "epoch: 44, loss: 0.07181899502752997, convergence 0.014396349225414884\n",
            "epoch: 45, loss: 0.05735768696928456, convergence 0.014461308058245415\n",
            "epoch: 46, loss: 0.04442761331467082, convergence 0.012930073654613738\n",
            "epoch: 47, loss: 0.03434630907701053, convergence 0.010081304237660293\n",
            "epoch: 48, loss: 0.02776531402030402, convergence 0.006580995056706507\n",
            "epoch: 49, loss: 0.024595760522188703, convergence 0.0031695534981153184\n",
            "epoch: 50, loss: 0.02412747173338603, convergence 0.0004682887888026732\n",
            "epoch: 51, loss: 0.025181670437662063, convergence 0.0010541987042760326\n",
            "epoch: 52, loss: 0.026446827629541425, convergence 0.0012651571918793625\n",
            "epoch: 53, loss: 0.026951594484712738, convergence 0.0005047668551713125\n",
            "epoch: 54, loss: 0.026268741404057327, convergence 0.0006828530806554101\n",
            "epoch: 55, loss: 0.024384483961798042, convergence 0.001884257442259285\n",
            "epoch: 56, loss: 0.021559789601991786, convergence 0.002824694359806257\n",
            "epoch: 57, loss: 0.01823431135191622, convergence 0.003325478250075564\n",
            "epoch: 58, loss: 0.014829081092365803, convergence 0.003405230259550418\n",
            "epoch: 59, loss: 0.011613054390254396, convergence 0.0032160267021114075\n",
            "epoch: 60, loss: 0.008787842308127236, convergence 0.00282521208212716\n",
            "epoch: 61, loss: 0.006561145460243112, convergence 0.0022266968478841243\n",
            "epoch: 62, loss: 0.005063487728403593, convergence 0.001497657731839519\n",
            "epoch: 63, loss: 0.004303023445135112, convergence 0.0007604642832684805\n",
            "epoch: 64, loss: 0.0042157989532704, convergence 8.722449186471248e-05\n",
            "epoch: 65, loss: 0.0046535083854516435, convergence 0.0004377094321812436\n",
            "epoch: 66, loss: 0.0053565727825469756, convergence 0.0007030643970953321\n",
            "epoch: 67, loss: 0.006047920391617723, convergence 0.0006913476090707471\n",
            "epoch: 68, loss: 0.006529695715073558, convergence 0.0004817753234558353\n",
            "epoch: 69, loss: 0.006678493770607474, convergence 0.00014879805553391634\n",
            "epoch: 70, loss: 0.006451153831139367, convergence 0.0002273399394681075\n",
            "epoch: 71, loss: 0.005917424762614143, convergence 0.0005337290685252238\n",
            "epoch: 72, loss: 0.00520724383886928, convergence 0.0007101809237448631\n",
            "epoch: 73, loss: 0.0044295633560075265, convergence 0.0007776804828617534\n",
            "epoch: 74, loss: 0.0036621529884485193, convergence 0.0007674103675590072\n",
            "epoch: 75, loss: 0.0029511016307526283, convergence 0.000711051357695891\n",
            "epoch: 76, loss: 0.0022967944272103136, convergence 0.0006543072035423148\n",
            "epoch: 77, loss: 0.00169087034279225, convergence 0.0006059240844180636\n",
            "epoch: 78, loss: 0.0011623432130578593, convergence 0.0005285271297343908\n",
            "epoch: 79, loss: 0.0007628078426098472, convergence 0.000399535370448012\n",
            "epoch: 80, loss: 0.0005345505429916741, convergence 0.0002282572996181731\n",
            "epoch: 81, loss: 0.000495879244434505, convergence 3.867129855716911e-05\n",
            "epoch: 82, loss: 0.0006199662123589356, convergence 0.00012408696792443052\n",
            "epoch: 83, loss: 0.0008306133207029998, convergence 0.0002106471083440642\n",
            "epoch: 84, loss: 0.0010380980779574056, convergence 0.00020748475725440585\n",
            "epoch: 85, loss: 0.0011741990873120889, convergence 0.00013610100935468328\n",
            "epoch: 86, loss: 0.0012045294681377605, convergence 3.0330380825671632e-05\n",
            "epoch: 87, loss: 0.0011336718870127438, convergence 7.085758112501672e-05\n",
            "epoch: 88, loss: 0.000997395796691003, convergence 0.00013627609032174082\n",
            "epoch: 89, loss: 0.0008388240338785824, convergence 0.00015857176281242058\n",
            "epoch: 90, loss: 0.0006906726690225629, convergence 0.00014815136485601954\n",
            "epoch: 91, loss: 0.0005697752506391707, convergence 0.00012089741838339219\n",
            "epoch: 92, loss: 0.00047668548210044737, convergence 9.30897685387233e-05\n",
            "epoch: 93, loss: 0.0004020830515777396, convergence 7.460243052270776e-05\n",
            "epoch: 94, loss: 0.0003381455572276648, convergence 6.393749435007479e-05\n",
            "epoch: 95, loss: 0.00028483484406338633, convergence 5.331071316427849e-05\n",
            "epoch: 96, loss: 0.00024747809094038953, convergence 3.73567531229968e-05\n",
            "epoch: 97, loss: 0.0002305697089654002, convergence 1.690838197498934e-05\n",
            "epoch: 98, loss: 0.00023249529662039414, convergence 1.9255876549939543e-06\n",
            "epoch: 99, loss: 0.0002435228054987748, convergence 1.1027508878380665e-05\n",
            "epoch: 100, loss: 0.00024936361598426604, convergence 5.840810485491232e-06\n",
            "epoch: 101, loss: 0.00023936433909343968, convergence 9.999276890826359e-06\n",
            "epoch: 102, loss: 0.00021162218179648917, convergence 2.774215729695051e-05\n",
            "epoch: 103, loss: 0.00017178583615828913, convergence 3.9836345638200044e-05\n",
            "epoch: 104, loss: 0.00012984921201508737, convergence 4.193662414320176e-05\n",
            "epoch: 105, loss: 9.55699980268454e-05, convergence 3.427921398824196e-05\n",
            "epoch: 106, loss: 7.391436848269706e-05, convergence 2.1655629544148347e-05\n",
            "epoch: 107, loss: 6.516809642787003e-05, convergence 8.746272054827031e-06\n",
            "epoch: 108, loss: 6.691564124861049e-05, convergence 1.7475448207404654e-06\n",
            "epoch: 109, loss: 7.467295966112619e-05, convergence 7.757318412515701e-06\n",
            "epoch: 110, loss: 8.385224773566069e-05, convergence 9.179288074534497e-06\n",
            "epoch: 111, loss: 9.126330139341832e-05, convergence 7.411053657757627e-06\n",
            "epoch: 112, loss: 9.44305657982758e-05, convergence 3.167264404857484e-06\n",
            "epoch: 113, loss: 9.200467560976922e-05, convergence 2.4258901885065853e-06\n",
            "epoch: 114, loss: 8.416778605868647e-05, convergence 7.836889551082749e-06\n",
            "epoch: 115, loss: 7.167272203190134e-05, convergence 1.249506402678513e-05\n",
            "epoch: 116, loss: 5.6160119486836635e-05, convergence 1.5512602545064702e-05\n",
            "epoch: 117, loss: 4.036138065399708e-05, convergence 1.5798738832839554e-05\n",
            "epoch: 118, loss: 2.6832304166668486e-05, convergence 1.3529076487328595e-05\n",
            "epoch: 119, loss: 1.7425961574835114e-05, convergence 9.406342591833372e-06\n",
            "epoch: 120, loss: 1.2875632597997289e-05, convergence 4.550328976837825e-06\n",
            "epoch: 121, loss: 1.224865223703464e-05, convergence 6.269803609626479e-07\n",
            "epoch: 122, loss: 1.3871445303847985e-05, convergence 1.622793066813344e-06\n",
            "epoch: 123, loss: 1.631340015306737e-05, convergence 2.4419548492193854e-06\n",
            "epoch: 124, loss: 1.8554923545410773e-05, convergence 2.241523392343403e-06\n",
            "epoch: 125, loss: 2.0207007714989622e-05, convergence 1.652084169578849e-06\n",
            "epoch: 126, loss: 2.1196092862552085e-05, convergence 9.89085147562463e-07\n",
            "epoch: 127, loss: 2.125106227190976e-05, convergence 5.496940935767469e-08\n",
            "epoch: 128, loss: 2.013158607583332e-05, convergence 1.119476196076441e-06\n",
            "epoch: 129, loss: 1.781711180581791e-05, convergence 2.3144742700154097e-06\n",
            "epoch: 130, loss: 1.4569525649710258e-05, convergence 3.2475861561076513e-06\n",
            "epoch: 131, loss: 1.1042453707199584e-05, convergence 3.5270719425106734e-06\n",
            "epoch: 132, loss: 8.006745197741694e-06, convergence 3.0357085094578906e-06\n",
            "epoch: 133, loss: 5.981213982098055e-06, convergence 2.025531215643639e-06\n",
            "epoch: 134, loss: 5.102158200709361e-06, convergence 8.790557813886934e-07\n",
            "epoch: 135, loss: 5.079713445987899e-06, convergence 2.2444754721462346e-08\n",
            "epoch: 136, loss: 5.365761194919827e-06, convergence 2.8604774893192797e-07\n",
            "epoch: 137, loss: 5.488550901211475e-06, convergence 1.2278970629164832e-07\n",
            "epoch: 138, loss: 5.242691279105927e-06, convergence 2.458596221055487e-07\n",
            "epoch: 139, loss: 4.704143562794805e-06, convergence 5.385477163111219e-07\n",
            "epoch: 140, loss: 4.0983120402904305e-06, convergence 6.058315225043742e-07\n",
            "epoch: 141, loss: 3.6018808461379948e-06, convergence 4.964311941524358e-07\n",
            "epoch: 142, loss: 3.2327943177978824e-06, convergence 3.6908652834011235e-07\n",
            "epoch: 143, loss: 2.916219242643514e-06, convergence 3.1657507515436834e-07\n",
            "epoch: 144, loss: 2.5781748947961702e-06, convergence 3.3804434784734383e-07\n",
            "epoch: 145, loss: 2.2127063866728136e-06, convergence 3.6546850812335663e-07\n",
            "epoch: 146, loss: 1.8932638357060938e-06, convergence 3.194425509667198e-07\n",
            "epoch: 147, loss: 1.6976219114894775e-06, convergence 1.956419242166163e-07\n",
            "epoch: 148, loss: 1.6436709575629038e-06, convergence 5.3950953926573675e-08\n",
            "epoch: 149, loss: 1.6908099756962613e-06, convergence 4.7139018133357524e-08\n",
            "epoch: 150, loss: 1.7476882392397641e-06, convergence 5.687826354350278e-08\n",
            "epoch: 151, loss: 1.7225763375705583e-06, convergence 2.511190166920585e-08\n",
            "epoch: 152, loss: 1.5806591147082827e-06, convergence 1.419172228622756e-07\n",
            "epoch: 153, loss: 1.336249692229785e-06, convergence 2.444094224784976e-07\n",
            "epoch: 154, loss: 1.044975553310401e-06, convergence 2.9127413891938403e-07\n",
            "epoch: 155, loss: 7.70992838905471e-07, convergence 2.7398271440493005e-07\n",
            "epoch: 156, loss: 5.480719489359132e-07, convergence 2.2292088996955783e-07\n",
            "epoch: 157, loss: 3.8960869253035213e-07, convergence 1.5846325640556103e-07\n",
            "epoch: 158, loss: 2.9690451919250904e-07, convergence 9.270417333784309e-08\n",
            "epoch: 159, loss: 2.646554413399116e-07, convergence 3.224907785259745e-08\n",
            "epoch: 160, loss: 2.8960501463615174e-07, convergence 2.4949573296240146e-08\n",
            "epoch: 161, loss: 3.5176557711125156e-07, convergence 6.216056247509982e-08\n",
            "epoch: 162, loss: 4.1969735309344003e-07, convergence 6.793177598218847e-08\n",
            "epoch: 163, loss: 4.6519232754782536e-07, convergence 4.549497445438533e-08\n",
            "epoch: 164, loss: 4.681744572021529e-07, convergence 2.9821296543275366e-09\n",
            "epoch: 165, loss: 4.304689523726424e-07, convergence 3.7705504829510517e-08\n",
            "epoch: 166, loss: 3.6581945850322484e-07, convergence 6.464949386941754e-08\n",
            "epoch: 167, loss: 2.888084033036975e-07, convergence 7.701105519952733e-08\n",
            "epoch: 168, loss: 2.1441235886765497e-07, convergence 7.439604443604253e-08\n",
            "epoch: 169, loss: 1.501049728958037e-07, convergence 6.430738597185126e-08\n",
            "epoch: 170, loss: 1.0069357969655357e-07, convergence 4.941139319925014e-08\n",
            "epoch: 171, loss: 6.968013677166596e-08, convergence 3.101344292488761e-08\n",
            "epoch: 172, loss: 5.769067967786867e-08, convergence 1.1989457093797284e-08\n",
            "epoch: 173, loss: 6.314360301296063e-08, convergence 5.452923335091953e-09\n",
            "epoch: 174, loss: 7.985885852601626e-08, convergence 1.6715255513055638e-08\n",
            "epoch: 175, loss: 9.74276433973742e-08, convergence 1.7568784871357934e-08\n",
            "epoch: 176, loss: 1.0536651084969151e-07, convergence 7.938867452317311e-09\n",
            "epoch: 177, loss: 9.862746186417581e-08, convergence 6.739048985515694e-09\n",
            "epoch: 178, loss: 7.984432104368722e-08, convergence 1.8783140820488597e-08\n",
            "epoch: 179, loss: 5.778636558151362e-08, convergence 2.2057955462173595e-08\n",
            "epoch: 180, loss: 4.075387005642028e-08, convergence 1.703249552509334e-08\n",
            "epoch: 181, loss: 3.239972590218798e-08, convergence 8.354144154232301e-09\n",
            "epoch: 182, loss: 3.1221454421803685e-08, convergence 1.1782714803842964e-09\n",
            "epoch: 183, loss: 3.298489203995558e-08, convergence 1.7634376181518974e-09\n",
            "epoch: 184, loss: 3.4174088336946795e-08, convergence 1.1891962969912129e-09\n",
            "epoch: 185, loss: 3.3570882407296665e-08, convergence 6.032059296501302e-10\n",
            "epoch: 186, loss: 3.1481182327652846e-08, convergence 2.0897000796438192e-09\n",
            "epoch: 187, loss: 2.8749152169993408e-08, convergence 2.7320301576594375e-09\n",
            "epoch: 188, loss: 2.5435250905481155e-08, convergence 3.3139012645122534e-09\n",
            "epoch: 189, loss: 2.1171989272872338e-08, convergence 4.263261632608817e-09\n",
            "epoch: 190, loss: 1.586686482202282e-08, convergence 5.305124450849519e-09\n",
            "epoch: 191, loss: 1.0119241000694501e-08, convergence 5.747623821328318e-09\n",
            "epoch: 192, loss: 5.504516287224703e-09, convergence 4.614724713469798e-09\n",
            "epoch: 193, loss: 3.2635935065528088e-09, convergence 2.2409227806718945e-09\n",
            "epoch: 194, loss: 3.686149829817964e-09, convergence 4.2255632326515524e-10\n",
            "epoch: 195, loss: 5.923524670770064e-09, convergence 2.2373748409521e-09\n",
            "epoch: 196, loss: 8.451899957684361e-09, convergence 2.5283752869142972e-09\n",
            "epoch: 197, loss: 1.0238268122186867e-08, convergence 1.7863681645025054e-09\n",
            "epoch: 198, loss: 1.0817633122606196e-08, convergence 5.793650004193296e-10\n",
            "epoch: 199, loss: 1.0260192029321047e-08, convergence 5.574410932851492e-10\n",
            "epoch: 200, loss: 8.908516924144294e-09, convergence 1.3516751051767528e-09\n",
            "epoch: 201, loss: 7.1086107000795096e-09, convergence 1.7999062240647845e-09\n",
            "epoch: 202, loss: 5.172022365940165e-09, convergence 1.936588334139344e-09\n",
            "epoch: 203, loss: 3.360037137412064e-09, convergence 1.8119852285281013e-09\n",
            "epoch: 204, loss: 1.998899601396431e-09, convergence 1.361137536015633e-09\n",
            "epoch: 205, loss: 1.2784880931704379e-09, convergence 7.204115082259932e-10\n",
            "epoch: 206, loss: 1.143034222828021e-09, convergence 1.3545387034241685e-10\n",
            "epoch: 207, loss: 1.3961242162352505e-09, convergence 2.530899934072295e-10\n",
            "epoch: 208, loss: 1.7911468974673994e-09, convergence 3.950226812321489e-10\n",
            "epoch: 209, loss: 2.125637110772516e-09, convergence 3.344902133051164e-10\n",
            "epoch: 210, loss: 2.324148651311475e-09, convergence 1.9851154053895925e-10\n"
          ]
        }
      ],
      "source": [
        "max_iterations = 300\n",
        "conv_tol = 1e-10\n",
        "# step_size = 0.1\n",
        "\n",
        "optim = tf.keras.optimizers.Adam(learning_rate=0.01)\n",
        "#optim = qml.QNGOptimizer(stepsize=0.1, approx=\"block-diag\")\n",
        "\n",
        "nn_param_history = [nn_theta(tf.constant([1.]))]\n",
        "nn_cost_history = []\n",
        "\n",
        "for epoch in range(1,max_iterations+1):\n",
        "    with tf.GradientTape() as tape:\n",
        "        loss_1 = 1.0 - qc_sk(*nn_theta(tf.constant([1.])),[0,0],qml.CNOT(wires=[0,1]))[0]; # minimal basis 몇개?  6개/9개 (O)\n",
        "        loss_2 = 1.0 - qc_sk(*nn_theta(tf.constant([1.])),[0,4],qml.CNOT(wires=[0,1]))[0];\n",
        "        loss_3 = 1.0 - qc_sk(*nn_theta(tf.constant([1.])),[0,5],qml.CNOT(wires=[0,1]))[0];\n",
        "        loss_4 = 1.0 - qc_sk(*nn_theta(tf.constant([1.])),[4,0],qml.CNOT(wires=[0,1]))[0];\n",
        "        loss_5 = 1.0 - qc_sk(*nn_theta(tf.constant([1.])),[4,4],qml.CNOT(wires=[0,1]))[0];\n",
        "        loss_6 = 1.0 - qc_sk(*nn_theta(tf.constant([1.])),[4,5],qml.CNOT(wires=[0,1]))[0];\n",
        "        loss_7 = 1.0 - qc_sk(*nn_theta(tf.constant([1.])),[5,0],qml.CNOT(wires=[0,1]))[0];\n",
        "        loss_8 = 1.0 - qc_sk(*nn_theta(tf.constant([1.])),[5,4],qml.CNOT(wires=[0,1]))[0];\n",
        "        loss_9 = 1.0 - qc_sk(*nn_theta(tf.constant([1.])),[5,5],qml.CNOT(wires=[0,1]))[0];\n",
        "\n",
        "\n",
        "        loss = loss_1 + loss_2 + loss_3 + loss_4 + loss_5 + loss_6 + loss_7 + loss_8 + loss_9\n",
        "    if len(nn_cost_history) > 0:\n",
        "      conv = tf.abs(nn_cost_history[-1] - loss)\n",
        "    else:\n",
        "      conv = loss\n",
        "    nn_cost_history.append(loss)\n",
        "    gradients = tape.gradient(loss, nn_theta.trainable_variables);\n",
        "    optim.apply_gradients(zip(gradients, nn_theta.trainable_variables));\n",
        "    nn_param_history.append(nn_theta(tf.constant([1.])))\n",
        "    # conv = tf.abs(tf_cost_fn(*nn_theta(tf.constant([1.]))) - loss)\n",
        "    if conv <= conv_tol:\n",
        "        break\n",
        "    print(\"epoch: {}, loss: {}, convergence {}\".format(epoch, loss, conv))"
      ]
    },
    {
      "cell_type": "code",
      "execution_count": 22,
      "metadata": {
        "colab": {
          "base_uri": "https://localhost:8080/"
        },
        "id": "293KZRPCmTvR",
        "outputId": "7929f509-381f-457e-8245-961d3b58a2f1"
      },
      "outputs": [
        {
          "data": {
            "text/plain": [
              "<tf.Tensor: shape=(4, 4), dtype=complex128, numpy=\n",
              "array([[ 0.40777591+0.28934575j,  0.28937347-0.40775075j,\n",
              "         0.40776867+0.28934859j, -0.28937259+0.40775701j],\n",
              "       [ 0.2893642 -0.40775979j,  0.40775815+0.28937168j,\n",
              "        -0.2893602 +0.40776516j,  0.40776257+0.28935372j],\n",
              "       [ 0.4077638 +0.28935871j, -0.289383  +0.40774421j,\n",
              "         0.4077713 +0.28934883j,  0.28937637-0.40775422j],\n",
              "       [-0.2893619 +0.40775983j,  0.407762  +0.2893647j ,\n",
              "         0.28936333-0.40776101j,  0.40775929+0.28936484j]])>"
            ]
          },
          "execution_count": 22,
          "metadata": {},
          "output_type": "execute_result"
        }
      ],
      "source": [
        "# qc_sk(*nn_theta(tf.constant([1.])),[5],qml.Hadamard(wires=[0]))\n",
        "qc_sk_mat = qml.matrix(qc_sk)(*nn_theta(tf.constant([1.])),[1],qml.S(wires=[0]));qc_sk_mat #qml matrix : 위의 circuit을 matrix form으로 바꿈"
      ]
    },
    {
      "cell_type": "code",
      "execution_count": 23,
      "metadata": {
        "id": "Nfw1J7uuhqiB"
      },
      "outputs": [],
      "source": [
        "def generate_second_kind(eu):\n",
        "  eu_fund = tf.constant(np.array([tf.reshape(Sigma(*s).fundamental,[2**eu.order,2**eu.order]) for s in eu.basis]),dtype=tf.complex128);\n",
        "  dim = len(eu.basis)\n",
        "  identity = tf.eye(2**eu.order,dtype=tf.complex128)\n",
        "  @tf.function\n",
        "  def second_kind(theta):\n",
        "    c = tf.cast(tf.cos(theta/2),tf.complex128)\n",
        "    s = tf.cast(2*tf.sin(theta/2),tf.complex128)\n",
        "    ret = c[0] * identity + s[0] * eu_fund[0]\n",
        "    for i in range(1,dim):\n",
        "      ret = tf.matmul(ret,(c[i] * identity + s[i] * eu_fund[i]))\n",
        "    return ret\n",
        "  return second_kind\n",
        "\n",
        "fn_sk = generate_second_kind(eu)"
      ]
    },
    {
      "cell_type": "code",
      "execution_count": 24,
      "metadata": {
        "colab": {
          "base_uri": "https://localhost:8080/"
        },
        "id": "RDcy6OVpidwT",
        "outputId": "73dc09e5-be0c-4bb9-d8b6-0457ff2988d2"
      },
      "outputs": [
        {
          "data": {
            "text/plain": [
              "<tf.Tensor: shape=(4, 4), dtype=complex128, numpy=\n",
              "array([[ 0.49823322+0.04200853j, -0.04199056+0.49823435j,\n",
              "         0.49823155+0.04200235j,  0.04199701-0.4982324j ],\n",
              "       [-0.04199632+0.49823386j,  0.49823413+0.04199776j,\n",
              "         0.04198963-0.49823302j,  0.49823145+0.04200356j],\n",
              "       [ 0.04201909-0.49823012j,  0.49823043+0.0420205j ,\n",
              "        -0.04201326+0.49823284j,  0.49823124+0.04202721j],\n",
              "       [ 0.49822995+0.04202622j,  0.04200823-0.49823104j,\n",
              "         0.49823187+0.04201975j, -0.04201443+0.49823274j]])>"
            ]
          },
          "execution_count": 24,
          "metadata": {},
          "output_type": "execute_result"
        }
      ],
      "source": [
        "tf.matmul(fn_sk(*(nn_theta(tf.constant([1.])))),tf.linalg.adjoint(qc_sk_mat))"
      ]
    },
    {
      "cell_type": "code",
      "execution_count": 25,
      "metadata": {
        "colab": {
          "base_uri": "https://localhost:8080/"
        },
        "id": "yzAXYgD6tDKy",
        "outputId": "4ea82241-d534-47e3-bec3-1128b173fdc4"
      },
      "outputs": [
        {
          "data": {
            "text/plain": [
              "<tf.Tensor: shape=(4, 4), dtype=complex128, numpy=\n",
              "array([[ 7.64035746e-01+6.45173819e-01j, -2.72243385e-06-2.10572145e-06j,\n",
              "         4.26830403e-07-3.49457472e-06j,  6.24034408e-06+5.20982421e-06j],\n",
              "       [ 2.53190011e-06+2.33141693e-06j,  7.64014723e-01+6.45198715e-01j,\n",
              "         2.42709394e-07+2.07910897e-06j,  1.60401818e-06-8.80766702e-06j],\n",
              "       [-6.18108571e-06-5.27993082e-06j,  8.41485164e-06-3.05582991e-06j,\n",
              "         5.71206373e-06+7.90091154e-06j,  7.63994701e-01+6.45222423e-01j],\n",
              "       [ 3.37380132e-06-1.00601176e-06j, -2.09047978e-06+1.08896516e-07j,\n",
              "         7.64016828e-01+6.45196223e-01j, -8.74562683e-06-4.30875458e-06j]])>"
            ]
          },
          "execution_count": 25,
          "metadata": {},
          "output_type": "execute_result"
        }
      ],
      "source": [
        "fn_sk(*(nn_theta(tf.constant([1.]))))"
      ]
    },
    {
      "cell_type": "code",
      "execution_count": 26,
      "metadata": {
        "id": "xI5jQtUfpVcX"
      },
      "outputs": [],
      "source": [
        "h_gate = tf.cast(tf.constant([[1.,1.],[1.,-1.]])/tf.sqrt(2.),dtype=tf.complex128);\n",
        "s_gate = tf.constant([[1,0],[0,-1.0j]],dtype=tf.complex128);\n",
        "t_gate = tf.constant(np.array([[1,0],[0,np.exp(1.0j*np.pi/8)]],dtype=np.complex128));\n",
        "cnot_gate = tf.constant(np.array([[1,0,0,0],[0,1,0,0],[0,0,0,1],[0,0,1,0]],dtype=np.complex128));"
      ]
    }
  ],
  "metadata": {
    "colab": {
      "include_colab_link": true,
      "provenance": []
    },
    "kernelspec": {
      "display_name": "Python 3",
      "name": "python3"
    },
    "language_info": {
      "codemirror_mode": {
        "name": "ipython",
        "version": 3
      },
      "file_extension": ".py",
      "mimetype": "text/x-python",
      "name": "python",
      "nbconvert_exporter": "python",
      "pygments_lexer": "ipython3",
      "version": "3.10.4"
    }
  },
  "nbformat": 4,
  "nbformat_minor": 0
}
