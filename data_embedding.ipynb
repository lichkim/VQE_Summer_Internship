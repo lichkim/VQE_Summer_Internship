{
 "cells": [
  {
   "attachments": {},
   "cell_type": "markdown",
   "metadata": {},
   "source": [
    "## Data Embedding"
   ]
  },
  {
   "attachments": {},
   "cell_type": "markdown",
   "metadata": {},
   "source": [
    "##### 사용한 pennylane template: https://docs.pennylane.ai/en/stable/introduction/templates.html"
   ]
  },
  {
   "cell_type": "code",
   "execution_count": 1,
   "metadata": {},
   "outputs": [],
   "source": [
    "import pennylane as qml\n",
    "import numpy as np\n",
    "import matplotlib.pyplot as plt"
   ]
  },
  {
   "cell_type": "code",
   "execution_count": 2,
   "metadata": {},
   "outputs": [],
   "source": [
    "qubit_num = 3"
   ]
  },
  {
   "attachments": {},
   "cell_type": "markdown",
   "metadata": {},
   "source": [
    "## 1. Basis Embedding"
   ]
  },
  {
   "attachments": {},
   "cell_type": "markdown",
   "metadata": {},
   "source": [
    "### 1.1. Basis Embedding with Pennylane Templates"
   ]
  },
  {
   "cell_type": "code",
   "execution_count": 3,
   "metadata": {},
   "outputs": [],
   "source": [
    "dev = qml.device(\"default.qubit\", wires=qubit_num)\n",
    "\n",
    "@qml.qnode(dev)\n",
    "def basis_embedding_circuit(feature_vector):\n",
    "    qml.BasisEmbedding(features=feature_vector, wires=range(qubit_num))\n",
    "    return qml.state()\n",
    "\n",
    "vector = [1, 0, 1]"
   ]
  },
  {
   "cell_type": "code",
   "execution_count": 28,
   "metadata": {},
   "outputs": [
    {
     "name": "stdout",
     "output_type": "stream",
     "text": [
      "0: ──X─┤  State\n",
      "2: ──X─┤  State\n"
     ]
    }
   ],
   "source": [
    "print(qml.draw(basis_embedding_circuit, expansion_strategy=\"device\")(vector))"
   ]
  },
  {
   "cell_type": "code",
   "execution_count": 5,
   "metadata": {},
   "outputs": [
    {
     "name": "stdout",
     "output_type": "stream",
     "text": [
      "[1.+0.j 0.+0.j 0.+0.j 0.+0.j 0.+0.j 0.+0.j 0.+0.j 0.+0.j]\n",
      "\n",
      "[0.+0.j 1.+0.j 0.+0.j 0.+0.j 0.+0.j 0.+0.j 0.+0.j 0.+0.j]\n",
      "\n",
      "[0.+0.j 0.+0.j 1.+0.j 0.+0.j 0.+0.j 0.+0.j 0.+0.j 0.+0.j]\n",
      "\n",
      "[0.+0.j 0.+0.j 0.+0.j 1.+0.j 0.+0.j 0.+0.j 0.+0.j 0.+0.j]\n",
      "\n",
      "[0.+0.j 0.+0.j 0.+0.j 0.+0.j 1.+0.j 0.+0.j 0.+0.j 0.+0.j]\n",
      "\n",
      "[0.+0.j 0.+0.j 0.+0.j 0.+0.j 0.+0.j 1.+0.j 0.+0.j 0.+0.j]\n",
      "\n",
      "[0.+0.j 0.+0.j 0.+0.j 0.+0.j 0.+0.j 0.+0.j 1.+0.j 0.+0.j]\n",
      "\n",
      "[0.+0.j 0.+0.j 0.+0.j 0.+0.j 0.+0.j 0.+0.j 0.+0.j 1.+0.j]\n",
      "\n"
     ]
    }
   ],
   "source": [
    "to_vec_bin_str = [np.binary_repr(i, width=qubit_num) for i in range(2 ** qubit_num)]\n",
    "vectors = [[int(c) for c in bin_str] for bin_str in to_vec_bin_str]\n",
    "\n",
    "for vec in vectors:\n",
    "    print(basis_embedding_circuit(vec))\n",
    "    print()\n"
   ]
  },
  {
   "attachments": {},
   "cell_type": "markdown",
   "metadata": {},
   "source": [
    "### 1.2. DIY Basis Embedding"
   ]
  },
  {
   "cell_type": "code",
   "execution_count": 6,
   "metadata": {},
   "outputs": [
    {
     "name": "stdout",
     "output_type": "stream",
     "text": [
      "Output state = [1.+0.j 0.+0.j 0.+0.j 0.+0.j 0.+0.j 0.+0.j 0.+0.j 0.+0.j]\n",
      "\n",
      "Output state = [0.+0.j 1.+0.j 0.+0.j 0.+0.j 0.+0.j 0.+0.j 0.+0.j 0.+0.j]\n",
      "\n",
      "Output state = [0.+0.j 0.+0.j 1.+0.j 0.+0.j 0.+0.j 0.+0.j 0.+0.j 0.+0.j]\n",
      "\n",
      "Output state = [0.+0.j 0.+0.j 0.+0.j 1.+0.j 0.+0.j 0.+0.j 0.+0.j 0.+0.j]\n",
      "\n",
      "Output state = [0.+0.j 0.+0.j 0.+0.j 0.+0.j 1.+0.j 0.+0.j 0.+0.j 0.+0.j]\n",
      "\n",
      "Output state = [0.+0.j 0.+0.j 0.+0.j 0.+0.j 0.+0.j 1.+0.j 0.+0.j 0.+0.j]\n",
      "\n",
      "Output state = [0.+0.j 0.+0.j 0.+0.j 0.+0.j 0.+0.j 0.+0.j 1.+0.j 0.+0.j]\n",
      "\n",
      "Output state = [0.+0.j 0.+0.j 0.+0.j 0.+0.j 0.+0.j 0.+0.j 0.+0.j 1.+0.j]\n",
      "\n"
     ]
    }
   ],
   "source": [
    "dev = qml.device(\"default.qubit\", wires=qubit_num)\n",
    "\n",
    "@qml.qnode(dev)\n",
    "def Custom_Basis_Embedding(data: int, width: int):\n",
    "    bin_str = np.binary_repr(data, width=width)\n",
    "    for i in range(width):\n",
    "        if (bin_str[i]=='1'):\n",
    "            qml.PauliX(wires=i)\n",
    "    return qml.state()\n",
    "\n",
    "for i in range(2 ** qubit_num):\n",
    "    print(f\"Output state = {Custom_Basis_Embedding(i, width=qubit_num)}\\n\")"
   ]
  },
  {
   "attachments": {},
   "cell_type": "markdown",
   "metadata": {},
   "source": [
    "## 2. Amplitude Embedding"
   ]
  },
  {
   "attachments": {},
   "cell_type": "markdown",
   "metadata": {},
   "source": [
    "### 2.1. Amplitude Embedding with Pennylane Templates"
   ]
  },
  {
   "cell_type": "code",
   "execution_count": 7,
   "metadata": {},
   "outputs": [
    {
     "data": {
      "text/plain": [
       "tensor(0., requires_grad=True)"
      ]
     },
     "execution_count": 7,
     "metadata": {},
     "output_type": "execute_result"
    }
   ],
   "source": [
    "@qml.qnode(dev)\n",
    "def Amplitude_Embedding_Circuit(f=None):\n",
    "    qml.AmplitudeEmbedding(features=f, wires=range(qubit_num), normalize=True)\n",
    "    return qml.expval(qml.PauliZ(0))\n",
    "\n",
    "Amplitude_Embedding_Circuit(f=[1 for i in range(2 ** qubit_num)])"
   ]
  },
  {
   "cell_type": "code",
   "execution_count": 8,
   "metadata": {},
   "outputs": [
    {
     "data": {
      "text/plain": [
       "tensor([0.35355339+0.j, 0.35355339+0.j, 0.35355339+0.j, 0.35355339+0.j,\n",
       "        0.35355339+0.j, 0.35355339+0.j, 0.35355339+0.j, 0.35355339+0.j], requires_grad=True)"
      ]
     },
     "execution_count": 8,
     "metadata": {},
     "output_type": "execute_result"
    }
   ],
   "source": [
    "dev.state"
   ]
  },
  {
   "attachments": {},
   "cell_type": "markdown",
   "metadata": {},
   "source": [
    "### 2.2. DIY Amplitude Embedding"
   ]
  },
  {
   "cell_type": "code",
   "execution_count": 21,
   "metadata": {},
   "outputs": [],
   "source": [
    "@qml.qnode(dev)\n",
    "def Custom_Amplitude_Embedding_Circuit(feature: list, normalize=True, pad_num = 0):\n",
    "    # if padding is needed\n",
    "    if int(np.log2(len(feature))) != np.log2(len(feature)):\n",
    "        feature.extend([pad_num for i in range(2 ** int(np.log2(len(feature))) + 1) - len(feature)])\n",
    "    \n",
    "    # Normalize\n",
    "    if normalize == True:\n",
    "        feature = np.array(feature)\n",
    "        normalized_feature = feature / np.sqrt(np.sum(feature ** 2))\n",
    "\n",
    "    qml.QubitStateVector(normalized_feature, wires=range(qubit_num))\n",
    "    return qml.expval(qml.PauliZ(0))"
   ]
  },
  {
   "cell_type": "code",
   "execution_count": 22,
   "metadata": {},
   "outputs": [
    {
     "data": {
      "text/plain": [
       "tensor(0., requires_grad=True)"
      ]
     },
     "execution_count": 22,
     "metadata": {},
     "output_type": "execute_result"
    }
   ],
   "source": [
    "Custom_Amplitude_Embedding_Circuit(feature=[1 for i in range(2 ** qubit_num)], normalize=True, pad_num=0)"
   ]
  },
  {
   "cell_type": "code",
   "execution_count": 23,
   "metadata": {},
   "outputs": [
    {
     "data": {
      "text/plain": [
       "tensor([0.35355339+0.j, 0.35355339+0.j, 0.35355339+0.j, 0.35355339+0.j,\n",
       "        0.35355339+0.j, 0.35355339+0.j, 0.35355339+0.j, 0.35355339+0.j], requires_grad=True)"
      ]
     },
     "execution_count": 23,
     "metadata": {},
     "output_type": "execute_result"
    }
   ],
   "source": [
    "dev.state"
   ]
  },
  {
   "attachments": {},
   "cell_type": "markdown",
   "metadata": {},
   "source": [
    "## 3.AngleEmbedding"
   ]
  },
  {
   "attachments": {},
   "cell_type": "markdown",
   "metadata": {},
   "source": [
    "### 3.1. Angle Embedding with Pennylane Templates"
   ]
  },
  {
   "cell_type": "code",
   "execution_count": 10,
   "metadata": {},
   "outputs": [],
   "source": [
    "@qml.qnode(dev)\n",
    "def Angle_Embedding_Circuit(feature_vector):\n",
    "    qml.AngleEmbedding(features=feature_vector, wires=range(qubit_num), rotation=\"X\")\n",
    "    qml.Hadamard(wires=0)\n",
    "    return qml.probs(wires=range(qubit_num))\n",
    "\n",
    "feature = [1, 2, 3]"
   ]
  },
  {
   "cell_type": "code",
   "execution_count": 11,
   "metadata": {},
   "outputs": [
    {
     "name": "stdout",
     "output_type": "stream",
     "text": [
      "0: ──RX(1.00)──H─┤ ╭Probs\n",
      "1: ──RX(2.00)────┤ ├Probs\n",
      "2: ──RX(3.00)────┤ ╰Probs\n"
     ]
    }
   ],
   "source": [
    "print(qml.draw(Angle_Embedding_Circuit, expansion_strategy=\"device\")(feature))"
   ]
  },
  {
   "attachments": {},
   "cell_type": "markdown",
   "metadata": {},
   "source": [
    "### 3.2. DIY Angle Embedding"
   ]
  },
  {
   "cell_type": "code",
   "execution_count": 12,
   "metadata": {},
   "outputs": [],
   "source": [
    "@qml.qnode(dev)\n",
    "def Custom_Angle_Embedding_Circuit(feature_vector, rotation=\"X\", *rotargs):\n",
    "    for i in range(len(feature_vector)):\n",
    "        if (rotation == \"X\"):\n",
    "            qml.RX(feature_vector[i], wires=i)\n",
    "        elif (rotation == \"Y\"):\n",
    "            qml.RY(feature_vector[i], wires=i)\n",
    "        else:\n",
    "            qml.Rot(rotargs)\n",
    "    \n",
    "    return qml.probs(wires=range(qubit_num))\n",
    "\n",
    "feature=[3, -1, 2]"
   ]
  },
  {
   "cell_type": "code",
   "execution_count": 27,
   "metadata": {},
   "outputs": [
    {
     "name": "stdout",
     "output_type": "stream",
     "text": [
      "0: ──RX(3.00)──┤ ╭Probs\n",
      "1: ──RX(-1.00)─┤ ├Probs\n",
      "2: ──RX(2.00)──┤ ╰Probs\n"
     ]
    }
   ],
   "source": [
    "print(qml.draw(Custom_Angle_Embedding_Circuit, expansion_strategy=\"device\")(feature))"
   ]
  }
 ],
 "metadata": {
  "kernelspec": {
   "display_name": "Python 3",
   "language": "python",
   "name": "python3"
  },
  "language_info": {
   "codemirror_mode": {
    "name": "ipython",
    "version": 3
   },
   "file_extension": ".py",
   "mimetype": "text/x-python",
   "name": "python",
   "nbconvert_exporter": "python",
   "pygments_lexer": "ipython3",
   "version": "3.9.13"
  },
  "orig_nbformat": 4
 },
 "nbformat": 4,
 "nbformat_minor": 2
}
